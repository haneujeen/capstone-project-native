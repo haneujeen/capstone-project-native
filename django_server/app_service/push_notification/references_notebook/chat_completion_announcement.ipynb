{
 "cells": [
  {
   "cell_type": "code",
   "execution_count": 1,
   "id": "06498fee",
   "metadata": {},
   "outputs": [],
   "source": [
    "import openai"
   ]
  },
  {
   "cell_type": "code",
   "execution_count": 2,
   "id": "1da36203",
   "metadata": {},
   "outputs": [],
   "source": [
    "from dotenv import dotenv_values"
   ]
  },
  {
   "cell_type": "code",
   "execution_count": 3,
   "id": "62cb7a99",
   "metadata": {},
   "outputs": [],
   "source": [
    "config = dotenv_values(\"../.env\")"
   ]
  },
  {
   "cell_type": "code",
   "execution_count": 4,
   "id": "58c70913",
   "metadata": {},
   "outputs": [],
   "source": [
    "openai.api_key = config[\"OPENAI_API_KEY\"]"
   ]
  },
  {
   "cell_type": "code",
   "execution_count": 5,
   "id": "8ed9a42b",
   "metadata": {},
   "outputs": [
    {
     "ename": "InvalidRequestError",
     "evalue": "The model `gpt-4` does not exist or you do not have access to it. Learn more: https://help.openai.com/en/articles/7102672-how-can-i-access-gpt-4.",
     "output_type": "error",
     "traceback": [
      "\u001b[0;31m---------------------------------------------------------------------------\u001b[0m",
      "\u001b[0;31mInvalidRequestError\u001b[0m                       Traceback (most recent call last)",
      "Input \u001b[0;32mIn [5]\u001b[0m, in \u001b[0;36m<cell line: 1>\u001b[0;34m()\u001b[0m\n\u001b[0;32m----> 1\u001b[0m response \u001b[38;5;241m=\u001b[39m \u001b[43mopenai\u001b[49m\u001b[38;5;241;43m.\u001b[39;49m\u001b[43mChatCompletion\u001b[49m\u001b[38;5;241;43m.\u001b[39;49m\u001b[43mcreate\u001b[49m\u001b[43m(\u001b[49m\n\u001b[1;32m      2\u001b[0m \u001b[43m    \u001b[49m\u001b[43mmodel\u001b[49m\u001b[38;5;241;43m=\u001b[39;49m\u001b[38;5;124;43m\"\u001b[39;49m\u001b[38;5;124;43mgpt-4\u001b[39;49m\u001b[38;5;124;43m\"\u001b[39;49m\u001b[43m,\u001b[49m\n\u001b[1;32m      3\u001b[0m \u001b[43m    \u001b[49m\u001b[43mmessages\u001b[49m\u001b[38;5;241;43m=\u001b[39;49m\u001b[43m[\u001b[49m\n\u001b[1;32m      4\u001b[0m \u001b[43m        \u001b[49m\u001b[43m{\u001b[49m\n\u001b[1;32m      5\u001b[0m \u001b[43m            \u001b[49m\u001b[38;5;124;43m\"\u001b[39;49m\u001b[38;5;124;43mrole\u001b[39;49m\u001b[38;5;124;43m\"\u001b[39;49m\u001b[43m:\u001b[49m\u001b[43m \u001b[49m\u001b[38;5;124;43m\"\u001b[39;49m\u001b[38;5;124;43msystem\u001b[39;49m\u001b[38;5;124;43m\"\u001b[39;49m\u001b[43m,\u001b[49m\n\u001b[1;32m      6\u001b[0m \u001b[43m            \u001b[49m\u001b[38;5;124;43m\"\u001b[39;49m\u001b[38;5;124;43mcontent\u001b[39;49m\u001b[38;5;124;43m\"\u001b[39;49m\u001b[43m:\u001b[49m\u001b[43m \u001b[49m\u001b[38;5;124;43m\"\u001b[39;49m\u001b[38;5;124;43mAnswer in a consistent style.\u001b[39;49m\u001b[38;5;124;43m\"\u001b[39;49m\n\u001b[1;32m      7\u001b[0m \u001b[43m        \u001b[49m\u001b[43m}\u001b[49m\u001b[43m,\u001b[49m\n\u001b[1;32m      8\u001b[0m \u001b[43m        \u001b[49m\u001b[43m{\u001b[49m\n\u001b[1;32m      9\u001b[0m \u001b[43m            \u001b[49m\u001b[38;5;124;43m\"\u001b[39;49m\u001b[38;5;124;43mrole\u001b[39;49m\u001b[38;5;124;43m\"\u001b[39;49m\u001b[43m:\u001b[49m\u001b[43m \u001b[49m\u001b[38;5;124;43m\"\u001b[39;49m\u001b[38;5;124;43muser\u001b[39;49m\u001b[38;5;124;43m\"\u001b[39;49m\u001b[43m,\u001b[49m\n\u001b[1;32m     10\u001b[0m \u001b[43m            \u001b[49m\u001b[38;5;124;43m\"\u001b[39;49m\u001b[38;5;124;43mcontent\u001b[39;49m\u001b[38;5;124;43m\"\u001b[39;49m\u001b[43m:\u001b[49m\u001b[43m \u001b[49m\u001b[38;5;124;43m\"\u001b[39;49m\u001b[38;5;124;43mTeach me about patience.\u001b[39;49m\u001b[38;5;124;43m\"\u001b[39;49m\n\u001b[1;32m     11\u001b[0m \u001b[43m        \u001b[49m\u001b[43m}\u001b[49m\u001b[43m,\u001b[49m\n\u001b[1;32m     12\u001b[0m \u001b[43m        \u001b[49m\u001b[43m{\u001b[49m\n\u001b[1;32m     13\u001b[0m \u001b[43m            \u001b[49m\u001b[38;5;124;43m\"\u001b[39;49m\u001b[38;5;124;43mrole\u001b[39;49m\u001b[38;5;124;43m\"\u001b[39;49m\u001b[43m:\u001b[49m\u001b[43m \u001b[49m\u001b[38;5;124;43m\"\u001b[39;49m\u001b[38;5;124;43massistant\u001b[39;49m\u001b[38;5;124;43m\"\u001b[39;49m\u001b[43m,\u001b[49m\n\u001b[1;32m     14\u001b[0m \u001b[43m            \u001b[49m\u001b[38;5;124;43m\"\u001b[39;49m\u001b[38;5;124;43mcontent\u001b[39;49m\u001b[38;5;124;43m\"\u001b[39;49m\u001b[43m:\u001b[49m\u001b[43m \u001b[49m\u001b[38;5;124;43m\"\u001b[39;49m\u001b[38;5;124;43mThe river that carves the deepest valley flows from a modest spring; the grandest symphony originates from a single note; the most intricate tapestry begins with a solitary thread.\u001b[39;49m\u001b[38;5;124;43m\"\u001b[39;49m\n\u001b[1;32m     15\u001b[0m \u001b[43m        \u001b[49m\u001b[43m}\u001b[49m\u001b[43m,\u001b[49m\n\u001b[1;32m     16\u001b[0m \u001b[43m        \u001b[49m\u001b[43m{\u001b[49m\n\u001b[1;32m     17\u001b[0m \u001b[43m            \u001b[49m\u001b[38;5;124;43m\"\u001b[39;49m\u001b[38;5;124;43mrole\u001b[39;49m\u001b[38;5;124;43m\"\u001b[39;49m\u001b[43m:\u001b[49m\u001b[43m \u001b[49m\u001b[38;5;124;43m\"\u001b[39;49m\u001b[38;5;124;43muser\u001b[39;49m\u001b[38;5;124;43m\"\u001b[39;49m\u001b[43m,\u001b[49m\n\u001b[1;32m     18\u001b[0m \u001b[43m            \u001b[49m\u001b[38;5;124;43m\"\u001b[39;49m\u001b[38;5;124;43mcontent\u001b[39;49m\u001b[38;5;124;43m\"\u001b[39;49m\u001b[43m:\u001b[49m\u001b[43m \u001b[49m\u001b[38;5;124;43m\"\u001b[39;49m\u001b[38;5;124;43mTeach me about the ocean.\u001b[39;49m\u001b[38;5;124;43m\"\u001b[39;49m\n\u001b[1;32m     19\u001b[0m \u001b[43m        \u001b[49m\u001b[43m}\u001b[49m\n\u001b[1;32m     20\u001b[0m \u001b[43m    \u001b[49m\u001b[43m]\u001b[49m\u001b[43m,\u001b[49m\n\u001b[1;32m     21\u001b[0m \u001b[43m    \u001b[49m\u001b[43mmax_tokens\u001b[49m\u001b[38;5;241;43m=\u001b[39;49m\u001b[38;5;241;43m256\u001b[39;49m\u001b[43m,\u001b[49m\n\u001b[1;32m     22\u001b[0m \u001b[43m    \u001b[49m\u001b[43mtop_p\u001b[49m\u001b[38;5;241;43m=\u001b[39;49m\u001b[38;5;241;43m1\u001b[39;49m\u001b[43m,\u001b[49m\n\u001b[1;32m     23\u001b[0m \u001b[43m    \u001b[49m\u001b[43mfrequency_penalty\u001b[49m\u001b[38;5;241;43m=\u001b[39;49m\u001b[38;5;241;43m0\u001b[39;49m\u001b[43m,\u001b[49m\n\u001b[1;32m     24\u001b[0m \u001b[43m    \u001b[49m\u001b[43mpresence_penalty\u001b[49m\u001b[38;5;241;43m=\u001b[39;49m\u001b[38;5;241;43m0\u001b[39;49m\n\u001b[1;32m     25\u001b[0m \u001b[43m)\u001b[49m\n",
      "File \u001b[0;32m/Library/Frameworks/Python.framework/Versions/3.10/lib/python3.10/site-packages/openai/api_resources/chat_completion.py:25\u001b[0m, in \u001b[0;36mChatCompletion.create\u001b[0;34m(cls, *args, **kwargs)\u001b[0m\n\u001b[1;32m     23\u001b[0m \u001b[38;5;28;01mwhile\u001b[39;00m \u001b[38;5;28;01mTrue\u001b[39;00m:\n\u001b[1;32m     24\u001b[0m     \u001b[38;5;28;01mtry\u001b[39;00m:\n\u001b[0;32m---> 25\u001b[0m         \u001b[38;5;28;01mreturn\u001b[39;00m \u001b[38;5;28;43msuper\u001b[39;49m\u001b[43m(\u001b[49m\u001b[43m)\u001b[49m\u001b[38;5;241;43m.\u001b[39;49m\u001b[43mcreate\u001b[49m\u001b[43m(\u001b[49m\u001b[38;5;241;43m*\u001b[39;49m\u001b[43margs\u001b[49m\u001b[43m,\u001b[49m\u001b[43m \u001b[49m\u001b[38;5;241;43m*\u001b[39;49m\u001b[38;5;241;43m*\u001b[39;49m\u001b[43mkwargs\u001b[49m\u001b[43m)\u001b[49m\n\u001b[1;32m     26\u001b[0m     \u001b[38;5;28;01mexcept\u001b[39;00m TryAgain \u001b[38;5;28;01mas\u001b[39;00m e:\n\u001b[1;32m     27\u001b[0m         \u001b[38;5;28;01mif\u001b[39;00m timeout \u001b[38;5;129;01mis\u001b[39;00m \u001b[38;5;129;01mnot\u001b[39;00m \u001b[38;5;28;01mNone\u001b[39;00m \u001b[38;5;129;01mand\u001b[39;00m time\u001b[38;5;241m.\u001b[39mtime() \u001b[38;5;241m>\u001b[39m start \u001b[38;5;241m+\u001b[39m timeout:\n",
      "File \u001b[0;32m/Library/Frameworks/Python.framework/Versions/3.10/lib/python3.10/site-packages/openai/api_resources/abstract/engine_api_resource.py:153\u001b[0m, in \u001b[0;36mEngineAPIResource.create\u001b[0;34m(cls, api_key, api_base, api_type, request_id, api_version, organization, **params)\u001b[0m\n\u001b[1;32m    127\u001b[0m \u001b[38;5;129m@classmethod\u001b[39m\n\u001b[1;32m    128\u001b[0m \u001b[38;5;28;01mdef\u001b[39;00m \u001b[38;5;21mcreate\u001b[39m(\n\u001b[1;32m    129\u001b[0m     \u001b[38;5;28mcls\u001b[39m,\n\u001b[0;32m   (...)\u001b[0m\n\u001b[1;32m    136\u001b[0m     \u001b[38;5;241m*\u001b[39m\u001b[38;5;241m*\u001b[39mparams,\n\u001b[1;32m    137\u001b[0m ):\n\u001b[1;32m    138\u001b[0m     (\n\u001b[1;32m    139\u001b[0m         deployment_id,\n\u001b[1;32m    140\u001b[0m         engine,\n\u001b[0;32m   (...)\u001b[0m\n\u001b[1;32m    150\u001b[0m         api_key, api_base, api_type, api_version, organization, \u001b[38;5;241m*\u001b[39m\u001b[38;5;241m*\u001b[39mparams\n\u001b[1;32m    151\u001b[0m     )\n\u001b[0;32m--> 153\u001b[0m     response, _, api_key \u001b[38;5;241m=\u001b[39m \u001b[43mrequestor\u001b[49m\u001b[38;5;241;43m.\u001b[39;49m\u001b[43mrequest\u001b[49m\u001b[43m(\u001b[49m\n\u001b[1;32m    154\u001b[0m \u001b[43m        \u001b[49m\u001b[38;5;124;43m\"\u001b[39;49m\u001b[38;5;124;43mpost\u001b[39;49m\u001b[38;5;124;43m\"\u001b[39;49m\u001b[43m,\u001b[49m\n\u001b[1;32m    155\u001b[0m \u001b[43m        \u001b[49m\u001b[43murl\u001b[49m\u001b[43m,\u001b[49m\n\u001b[1;32m    156\u001b[0m \u001b[43m        \u001b[49m\u001b[43mparams\u001b[49m\u001b[38;5;241;43m=\u001b[39;49m\u001b[43mparams\u001b[49m\u001b[43m,\u001b[49m\n\u001b[1;32m    157\u001b[0m \u001b[43m        \u001b[49m\u001b[43mheaders\u001b[49m\u001b[38;5;241;43m=\u001b[39;49m\u001b[43mheaders\u001b[49m\u001b[43m,\u001b[49m\n\u001b[1;32m    158\u001b[0m \u001b[43m        \u001b[49m\u001b[43mstream\u001b[49m\u001b[38;5;241;43m=\u001b[39;49m\u001b[43mstream\u001b[49m\u001b[43m,\u001b[49m\n\u001b[1;32m    159\u001b[0m \u001b[43m        \u001b[49m\u001b[43mrequest_id\u001b[49m\u001b[38;5;241;43m=\u001b[39;49m\u001b[43mrequest_id\u001b[49m\u001b[43m,\u001b[49m\n\u001b[1;32m    160\u001b[0m \u001b[43m        \u001b[49m\u001b[43mrequest_timeout\u001b[49m\u001b[38;5;241;43m=\u001b[39;49m\u001b[43mrequest_timeout\u001b[49m\u001b[43m,\u001b[49m\n\u001b[1;32m    161\u001b[0m \u001b[43m    \u001b[49m\u001b[43m)\u001b[49m\n\u001b[1;32m    163\u001b[0m     \u001b[38;5;28;01mif\u001b[39;00m stream:\n\u001b[1;32m    164\u001b[0m         \u001b[38;5;66;03m# must be an iterator\u001b[39;00m\n\u001b[1;32m    165\u001b[0m         \u001b[38;5;28;01massert\u001b[39;00m \u001b[38;5;129;01mnot\u001b[39;00m \u001b[38;5;28misinstance\u001b[39m(response, OpenAIResponse)\n",
      "File \u001b[0;32m/Library/Frameworks/Python.framework/Versions/3.10/lib/python3.10/site-packages/openai/api_requestor.py:298\u001b[0m, in \u001b[0;36mAPIRequestor.request\u001b[0;34m(self, method, url, params, headers, files, stream, request_id, request_timeout)\u001b[0m\n\u001b[1;32m    277\u001b[0m \u001b[38;5;28;01mdef\u001b[39;00m \u001b[38;5;21mrequest\u001b[39m(\n\u001b[1;32m    278\u001b[0m     \u001b[38;5;28mself\u001b[39m,\n\u001b[1;32m    279\u001b[0m     method,\n\u001b[0;32m   (...)\u001b[0m\n\u001b[1;32m    286\u001b[0m     request_timeout: Optional[Union[\u001b[38;5;28mfloat\u001b[39m, Tuple[\u001b[38;5;28mfloat\u001b[39m, \u001b[38;5;28mfloat\u001b[39m]]] \u001b[38;5;241m=\u001b[39m \u001b[38;5;28;01mNone\u001b[39;00m,\n\u001b[1;32m    287\u001b[0m ) \u001b[38;5;241m-\u001b[39m\u001b[38;5;241m>\u001b[39m Tuple[Union[OpenAIResponse, Iterator[OpenAIResponse]], \u001b[38;5;28mbool\u001b[39m, \u001b[38;5;28mstr\u001b[39m]:\n\u001b[1;32m    288\u001b[0m     result \u001b[38;5;241m=\u001b[39m \u001b[38;5;28mself\u001b[39m\u001b[38;5;241m.\u001b[39mrequest_raw(\n\u001b[1;32m    289\u001b[0m         method\u001b[38;5;241m.\u001b[39mlower(),\n\u001b[1;32m    290\u001b[0m         url,\n\u001b[0;32m   (...)\u001b[0m\n\u001b[1;32m    296\u001b[0m         request_timeout\u001b[38;5;241m=\u001b[39mrequest_timeout,\n\u001b[1;32m    297\u001b[0m     )\n\u001b[0;32m--> 298\u001b[0m     resp, got_stream \u001b[38;5;241m=\u001b[39m \u001b[38;5;28;43mself\u001b[39;49m\u001b[38;5;241;43m.\u001b[39;49m\u001b[43m_interpret_response\u001b[49m\u001b[43m(\u001b[49m\u001b[43mresult\u001b[49m\u001b[43m,\u001b[49m\u001b[43m \u001b[49m\u001b[43mstream\u001b[49m\u001b[43m)\u001b[49m\n\u001b[1;32m    299\u001b[0m     \u001b[38;5;28;01mreturn\u001b[39;00m resp, got_stream, \u001b[38;5;28mself\u001b[39m\u001b[38;5;241m.\u001b[39mapi_key\n",
      "File \u001b[0;32m/Library/Frameworks/Python.framework/Versions/3.10/lib/python3.10/site-packages/openai/api_requestor.py:700\u001b[0m, in \u001b[0;36mAPIRequestor._interpret_response\u001b[0;34m(self, result, stream)\u001b[0m\n\u001b[1;32m    692\u001b[0m     \u001b[38;5;28;01mreturn\u001b[39;00m (\n\u001b[1;32m    693\u001b[0m         \u001b[38;5;28mself\u001b[39m\u001b[38;5;241m.\u001b[39m_interpret_response_line(\n\u001b[1;32m    694\u001b[0m             line, result\u001b[38;5;241m.\u001b[39mstatus_code, result\u001b[38;5;241m.\u001b[39mheaders, stream\u001b[38;5;241m=\u001b[39m\u001b[38;5;28;01mTrue\u001b[39;00m\n\u001b[1;32m    695\u001b[0m         )\n\u001b[1;32m    696\u001b[0m         \u001b[38;5;28;01mfor\u001b[39;00m line \u001b[38;5;129;01min\u001b[39;00m parse_stream(result\u001b[38;5;241m.\u001b[39miter_lines())\n\u001b[1;32m    697\u001b[0m     ), \u001b[38;5;28;01mTrue\u001b[39;00m\n\u001b[1;32m    698\u001b[0m \u001b[38;5;28;01melse\u001b[39;00m:\n\u001b[1;32m    699\u001b[0m     \u001b[38;5;28;01mreturn\u001b[39;00m (\n\u001b[0;32m--> 700\u001b[0m         \u001b[38;5;28;43mself\u001b[39;49m\u001b[38;5;241;43m.\u001b[39;49m\u001b[43m_interpret_response_line\u001b[49m\u001b[43m(\u001b[49m\n\u001b[1;32m    701\u001b[0m \u001b[43m            \u001b[49m\u001b[43mresult\u001b[49m\u001b[38;5;241;43m.\u001b[39;49m\u001b[43mcontent\u001b[49m\u001b[38;5;241;43m.\u001b[39;49m\u001b[43mdecode\u001b[49m\u001b[43m(\u001b[49m\u001b[38;5;124;43m\"\u001b[39;49m\u001b[38;5;124;43mutf-8\u001b[39;49m\u001b[38;5;124;43m\"\u001b[39;49m\u001b[43m)\u001b[49m\u001b[43m,\u001b[49m\n\u001b[1;32m    702\u001b[0m \u001b[43m            \u001b[49m\u001b[43mresult\u001b[49m\u001b[38;5;241;43m.\u001b[39;49m\u001b[43mstatus_code\u001b[49m\u001b[43m,\u001b[49m\n\u001b[1;32m    703\u001b[0m \u001b[43m            \u001b[49m\u001b[43mresult\u001b[49m\u001b[38;5;241;43m.\u001b[39;49m\u001b[43mheaders\u001b[49m\u001b[43m,\u001b[49m\n\u001b[1;32m    704\u001b[0m \u001b[43m            \u001b[49m\u001b[43mstream\u001b[49m\u001b[38;5;241;43m=\u001b[39;49m\u001b[38;5;28;43;01mFalse\u001b[39;49;00m\u001b[43m,\u001b[49m\n\u001b[1;32m    705\u001b[0m \u001b[43m        \u001b[49m\u001b[43m)\u001b[49m,\n\u001b[1;32m    706\u001b[0m         \u001b[38;5;28;01mFalse\u001b[39;00m,\n\u001b[1;32m    707\u001b[0m     )\n",
      "File \u001b[0;32m/Library/Frameworks/Python.framework/Versions/3.10/lib/python3.10/site-packages/openai/api_requestor.py:763\u001b[0m, in \u001b[0;36mAPIRequestor._interpret_response_line\u001b[0;34m(self, rbody, rcode, rheaders, stream)\u001b[0m\n\u001b[1;32m    761\u001b[0m stream_error \u001b[38;5;241m=\u001b[39m stream \u001b[38;5;129;01mand\u001b[39;00m \u001b[38;5;124m\"\u001b[39m\u001b[38;5;124merror\u001b[39m\u001b[38;5;124m\"\u001b[39m \u001b[38;5;129;01min\u001b[39;00m resp\u001b[38;5;241m.\u001b[39mdata\n\u001b[1;32m    762\u001b[0m \u001b[38;5;28;01mif\u001b[39;00m stream_error \u001b[38;5;129;01mor\u001b[39;00m \u001b[38;5;129;01mnot\u001b[39;00m \u001b[38;5;241m200\u001b[39m \u001b[38;5;241m<\u001b[39m\u001b[38;5;241m=\u001b[39m rcode \u001b[38;5;241m<\u001b[39m \u001b[38;5;241m300\u001b[39m:\n\u001b[0;32m--> 763\u001b[0m     \u001b[38;5;28;01mraise\u001b[39;00m \u001b[38;5;28mself\u001b[39m\u001b[38;5;241m.\u001b[39mhandle_error_response(\n\u001b[1;32m    764\u001b[0m         rbody, rcode, resp\u001b[38;5;241m.\u001b[39mdata, rheaders, stream_error\u001b[38;5;241m=\u001b[39mstream_error\n\u001b[1;32m    765\u001b[0m     )\n\u001b[1;32m    766\u001b[0m \u001b[38;5;28;01mreturn\u001b[39;00m resp\n",
      "\u001b[0;31mInvalidRequestError\u001b[0m: The model `gpt-4` does not exist or you do not have access to it. Learn more: https://help.openai.com/en/articles/7102672-how-can-i-access-gpt-4."
     ]
    }
   ],
   "source": [
    "response = openai.ChatCompletion.create(\n",
    "    model=\"gpt-4\",\n",
    "    messages=[\n",
    "        {\n",
    "            \"role\": \"system\",\n",
    "            \"content\": \"Answer in a consistent style.\"\n",
    "        },\n",
    "        {\n",
    "            \"role\": \"user\",\n",
    "            \"content\": \"Teach me about patience.\"\n",
    "        },\n",
    "        {\n",
    "            \"role\": \"assistant\",\n",
    "            \"content\": \"The river that carves the deepest valley flows from a modest spring; the grandest symphony originates from a single note; the most intricate tapestry begins with a solitary thread.\"\n",
    "        },\n",
    "        {\n",
    "            \"role\": \"user\",\n",
    "            \"content\": \"Teach me about the ocean.\"\n",
    "        }\n",
    "    ],\n",
    "    max_tokens=256,\n",
    "    top_p=1,\n",
    "    frequency_penalty=0,\n",
    "    presence_penalty=0\n",
    ")"
   ]
  },
  {
   "cell_type": "code",
   "execution_count": 7,
   "id": "1a6d330c",
   "metadata": {},
   "outputs": [
    {
     "data": {
      "text/plain": [
       "\"The ocean, the vast expanse of saltwater that covers more than 70% of our planet, is a majestic and awe-inspiring feature of our world. Its sheer size and power are unmatched, making it a mysterious and captivating entity.\\n\\nThe ocean serves as a home to an incredible array of marine life, from the smallest microorganisms to the largest whales. Its depths remain largely unexplored, holding secrets and species yet to be discovered. The diverse ecosystems within the ocean provide a delicate balance of life, where each organism plays a vital role in maintaining the health of the entire ecosystem.\\n\\nBeyond its biodiversity, the ocean also serves as a source of sustenance and livelihood for millions of people around the world. Fishing and aquaculture industries rely on the ocean's resources, providing food and economic opportunities for communities worldwide. The ocean also plays a crucial role in regulating Earth's climate, absorbing carbon dioxide and releasing oxygen, thus acting as a vital component in the planet's life-support system.\\n\\nHowever, the ocean is not immune to human impact. Pollution, overfishing, and climate change pose significant threats to its delicate balance. It necessitates our responsible stewardship, urging us to protect and preserve this invaluable resource for future generations.\\n\\nFrom its immense waves crashing against the shore\""
      ]
     },
     "execution_count": 7,
     "metadata": {},
     "output_type": "execute_result"
    }
   ],
   "source": [
    "response.choices[0].message.content"
   ]
  },
  {
   "cell_type": "code",
   "execution_count": 23,
   "id": "aebd8e84",
   "metadata": {},
   "outputs": [],
   "source": [
    "response = openai.ChatCompletion.create(\n",
    "    model=\"gpt-3.5-turbo\",\n",
    "    messages=[\n",
    "        {\n",
    "            \"role\": \"system\",\n",
    "            \"content\": \"Subway announcement to a passenger\"\n",
    "        },\n",
    "        {\n",
    "            \"role\": \"assistant\",\n",
    "            \"content\": \"Direction: 상행, Current Station: 서울역, Next Station: 여의도\"\n",
    "        },\n",
    "    ],\n",
    "    max_tokens=50,\n",
    "    top_p=1,\n",
    "    frequency_penalty=0,\n",
    "    presence_penalty=0\n",
    ")"
   ]
  },
  {
   "cell_type": "code",
   "execution_count": 24,
   "id": "57ba3280",
   "metadata": {},
   "outputs": [
    {
     "data": {
      "text/plain": [
       "'Attention passengers, we are approaching the next station, 여의도. Please prepare to exit the train. Thank you for riding with us.'"
      ]
     },
     "execution_count": 24,
     "metadata": {},
     "output_type": "execute_result"
    }
   ],
   "source": [
    "response.choices[0].message.content"
   ]
  },
  {
   "cell_type": "code",
   "execution_count": 25,
   "id": "b643b0a5",
   "metadata": {},
   "outputs": [],
   "source": [
    "response = openai.ChatCompletion.create(\n",
    "    model=\"gpt-3.5-turbo\",\n",
    "    messages=[\n",
    "        {\n",
    "            \"role\": \"system\",\n",
    "            \"content\": \"Subway announcement to a passenger\"\n",
    "        },\n",
    "        {\n",
    "            \"role\": \"system\",\n",
    "            \"content\": \"language: Korean\"\n",
    "        },\n",
    "        {\n",
    "            \"role\": \"assistant\",\n",
    "            \"content\": \"Direction: 상행, \\\n",
    "            Current Station: 서울역, \\\n",
    "            Next Station: 여의도\"\n",
    "        },\n",
    "    ],\n",
    "    max_tokens=50,\n",
    "    top_p=1,\n",
    "    frequency_penalty=0,\n",
    "    presence_penalty=0\n",
    ")"
   ]
  },
  {
   "cell_type": "code",
   "execution_count": 26,
   "id": "98e80f64",
   "metadata": {},
   "outputs": [
    {
     "data": {
      "text/plain": [
       "'지하철에 오신 것을 환영합니다. 현재 열차는 상행으로 운행 중입니다. 다음 역은 여의도입니다.\\n\\n서울역에서 여'"
      ]
     },
     "execution_count": 26,
     "metadata": {},
     "output_type": "execute_result"
    }
   ],
   "source": [
    "response.choices[0].message.content"
   ]
  },
  {
   "cell_type": "code",
   "execution_count": 27,
   "id": "a6de8316",
   "metadata": {},
   "outputs": [],
   "source": [
    "response = openai.ChatCompletion.create(\n",
    "    model=\"gpt-3.5-turbo\",\n",
    "    messages=[\n",
    "        {\n",
    "            \"role\": \"system\",\n",
    "            \"content\": \"Seoul Subway announcement to a passenger\"\n",
    "        },\n",
    "        {\n",
    "            \"role\": \"system\",\n",
    "            \"content\": \"language: Korean\"\n",
    "        },\n",
    "        {\n",
    "            \"role\": \"assistant\",\n",
    "            \"content\": \"Direction: 상행, \\\n",
    "            Current Station: 서울역, \\\n",
    "            Next Station: 여의도\"\n",
    "        },\n",
    "    ],\n",
    "    max_tokens=256,\n",
    "    top_p=1,\n",
    "    frequency_penalty=0,\n",
    "    presence_penalty=0\n",
    ")"
   ]
  },
  {
   "cell_type": "code",
   "execution_count": 28,
   "id": "c236db57",
   "metadata": {},
   "outputs": [
    {
     "data": {
      "text/plain": [
       "'경고: 문이 닫힙니다. 승객 여러분께서 여의도 역에서 하차하시기 바랍니다. 다음 역은 여의도 역입니다.'"
      ]
     },
     "execution_count": 28,
     "metadata": {},
     "output_type": "execute_result"
    }
   ],
   "source": [
    "response.choices[0].message.content"
   ]
  },
  {
   "cell_type": "code",
   "execution_count": 29,
   "id": "2c3ae1f7",
   "metadata": {},
   "outputs": [],
   "source": [
    "response = openai.ChatCompletion.create(\n",
    "    model=\"gpt-3.5-turbo\",\n",
    "    messages=[\n",
    "        {\n",
    "            \"role\": \"system\",\n",
    "            \"content\": \"Seoul Subway announcement to a passenger\"\n",
    "        },\n",
    "        {\n",
    "            \"role\": \"system\",\n",
    "            \"content\": \"language: Korean\"\n",
    "        },\n",
    "        {\n",
    "            \"role\": \"assistant\",\n",
    "            \"content\": \"Direction: 상행, \\\n",
    "            Current Station: 서울역, \\\n",
    "            Next Station: 여의도\"\n",
    "        },\n",
    "    ],\n",
    "    max_tokens=256,\n",
    "    top_p=1,\n",
    "    frequency_penalty=0,\n",
    "    presence_penalty=0\n",
    ")"
   ]
  },
  {
   "cell_type": "code",
   "execution_count": 30,
   "id": "9172c68d",
   "metadata": {},
   "outputs": [
    {
     "data": {
      "text/plain": [
       "'\"다음 역은 여의도입니다. 상행으로 진행되는 열차에 꼭 착석하여 주시기 바랍니다. 감사합니다.\"'"
      ]
     },
     "execution_count": 30,
     "metadata": {},
     "output_type": "execute_result"
    }
   ],
   "source": [
    "response.choices[0].message.content"
   ]
  },
  {
   "cell_type": "code",
   "execution_count": 32,
   "id": "053b3b2d",
   "metadata": {},
   "outputs": [],
   "source": [
    "response = openai.ChatCompletion.create(\n",
    "    model=\"gpt-3.5-turbo\",\n",
    "    messages=[\n",
    "        {\n",
    "            \"role\": \"system\",\n",
    "            \"content\": \"Seoul Subway announcement to a passenger\"\n",
    "        },\n",
    "        {\n",
    "            \"role\": \"system\",\n",
    "            \"content\": \"language: Korean\"\n",
    "        },\n",
    "        {\n",
    "            \"role\": \"system\",\n",
    "            \"content\": \"Attention passengers, we are approaching City Hall station. Please prepare to exit the train. If this is your stop, please remember to take all of your belongings with you. Thank you for riding with us today.\\n\\nNext stop, National Park. Please stand clear of the doors as they will be closing.\"\n",
    "        },\n",
    "        {\n",
    "            \"role\": \"assistant\",\n",
    "            \"content\": \"Direction: 상행, \\\n",
    "            Current Station: 서울역, \\\n",
    "            Next Station: 여의도\"\n",
    "        },\n",
    "    ],\n",
    "    max_tokens=256,\n",
    "    top_p=1,\n",
    "    frequency_penalty=0,\n",
    "    presence_penalty=0\n",
    ")"
   ]
  },
  {
   "cell_type": "code",
   "execution_count": 33,
   "id": "cdef4e5b",
   "metadata": {},
   "outputs": [
    {
     "data": {
      "text/plain": [
       "'주의하세요. 곧 도착 예정인 역은 시청역입니다. 하차를 준비해주세요. 만약 이 역이 여러분의 하차 정류장이라면 모든 소지품을 가져가셔야 합니다. 오늘 하루 지하철을 이용해 주셔서 감사합니다.\\n\\n다음 정거장은 국립 공원입니다. 문이 닫힐 예정이니 문에 주의하시고 안전하게 대기해주세요.'"
      ]
     },
     "execution_count": 33,
     "metadata": {},
     "output_type": "execute_result"
    }
   ],
   "source": [
    "response.choices[0].message.content"
   ]
  },
  {
   "cell_type": "code",
   "execution_count": 37,
   "id": "a458a0dd",
   "metadata": {},
   "outputs": [],
   "source": [
    "response = openai.ChatCompletion.create(\n",
    "    model=\"gpt-3.5-turbo\",\n",
    "    messages=[\n",
    "        {\n",
    "            \"role\": \"system\",\n",
    "            \"content\": \"Seoul Subway announcement to a passenger\"\n",
    "        },\n",
    "        {\n",
    "            \"role\": \"system\",\n",
    "            \"content\": \"We are approaching City Hall station. Please prepare to exit the train. If this is your stop, please remember to take all of your belongings with you. Thank you for riding with us today.\\n\\nNext stop, National Park. Please stand clear of the doors as they will be closing.\"\n",
    "        },\n",
    "        {\n",
    "            \"role\": \"system\",\n",
    "            \"content\": \"이번 정거장은 시청역입니다. 다음 정거장은 여의도입니다.\"\n",
    "        },\n",
    "        {\n",
    "            \"role\": \"system\",\n",
    "            \"content\": \"language: Korean\"\n",
    "        },\n",
    "        {\n",
    "            \"role\": \"assistant\",\n",
    "            \"content\": \"Direction: 상행, \\\n",
    "            Current Station: 서울역, \\\n",
    "            Next Station: 여의도, \\\n",
    "            Destination: 여의도\"\n",
    "        },\n",
    "    ],\n",
    "    max_tokens=256,\n",
    "    top_p=1,\n",
    "    frequency_penalty=0,\n",
    "    presence_penalty=0\n",
    ")"
   ]
  },
  {
   "cell_type": "code",
   "execution_count": 38,
   "id": "eec97125",
   "metadata": {},
   "outputs": [
    {
     "data": {
      "text/plain": [
       "'Next stop, City Hall. Please make sure to take all your belongings with you as you exit the train. Thank you for riding with Seoul Subway.'"
      ]
     },
     "execution_count": 38,
     "metadata": {},
     "output_type": "execute_result"
    }
   ],
   "source": [
    "response.choices[0].message.content"
   ]
  },
  {
   "cell_type": "code",
   "execution_count": 39,
   "id": "96481eb0",
   "metadata": {},
   "outputs": [],
   "source": [
    "response = openai.ChatCompletion.create(\n",
    "    model=\"gpt-3.5-turbo\",\n",
    "    messages=[\n",
    "        {\n",
    "            \"role\": \"system\",\n",
    "            \"content\": \"Seoul Subway announcement to a passenger in the language set by a user\"\n",
    "        },\n",
    "        {\n",
    "            \"role\": \"system\",\n",
    "            \"content\": \"We are approaching City Hall station. Please prepare to exit the train. If this is your stop, please remember to take all of your belongings with you. Thank you for riding with us today.\\n\\nNext stop, National Park. Please stand clear of the doors as they will be closing.\"\n",
    "        },\n",
    "        {\n",
    "            \"role\": \"system\",\n",
    "            \"content\": \"이번 정거장은 시청역입니다. 다음 정거장은 여의도입니다.\"\n",
    "        },\n",
    "        {\n",
    "            \"role\": \"user\",\n",
    "            \"content\": \"language: Korean\"\n",
    "        },\n",
    "        {\n",
    "            \"role\": \"assistant\",\n",
    "            \"content\": \"Direction: 상행, \\\n",
    "            Current Station: 서울역, \\\n",
    "            Next Station: 여의도, \\\n",
    "            Destination: 여의도\"\n",
    "        },\n",
    "    ],\n",
    "    max_tokens=256,\n",
    "    top_p=1,\n",
    "    frequency_penalty=0,\n",
    "    presence_penalty=0\n",
    ")"
   ]
  },
  {
   "cell_type": "code",
   "execution_count": 40,
   "id": "957eb0fd",
   "metadata": {},
   "outputs": [
    {
     "data": {
      "text/plain": [
       "'안녕하세요, 여러분. 저희는 이제 곧 시청역에 도착합니다. 만약 이 정거장이 여러분의 하차 정거장이라면, 모든 물건을 가져가시는 것을 잊지 마세요. 오늘 함께 지하철을 이용해 주셔서 감사합니다.\\n\\n다음은 국립공원역입니다. 문이 닫힐 예정이니 문 앞에 서지 마시고, 빠르게 내리실 준비를 해주세요. 감사합니다.\\n\\n다음 역은 여의도입니다. 문이 닫힐 예정이니 문 앞에 서지 마시고, 빠르게 내리실 준비를 해주세요. 감사합니다.'"
      ]
     },
     "execution_count": 40,
     "metadata": {},
     "output_type": "execute_result"
    }
   ],
   "source": [
    "response.choices[0].message.content"
   ]
  },
  {
   "cell_type": "code",
   "execution_count": 41,
   "id": "6748cbc3",
   "metadata": {},
   "outputs": [],
   "source": [
    "response = openai.ChatCompletion.create(\n",
    "    model=\"gpt-3.5-turbo\",\n",
    "    messages=[\n",
    "        {\n",
    "            \"role\": \"system\",\n",
    "            \"content\": \"Seoul Subway announcement to a passenger in the language set by a user\"\n",
    "        },\n",
    "        {\n",
    "            \"role\": \"assistant\",\n",
    "            \"content\": \"We are approaching City Hall station. Please prepare to exit the train. If this is your stop, please remember to take all of your belongings with you. Thank you for riding with us today.\\n\\nNext stop, National Park. Please stand clear of the doors as they will be closing.\"\n",
    "        },\n",
    "        {\n",
    "            \"role\": \"assistant\",\n",
    "            \"content\": \"이번 정거장은 시청역입니다. 다음 정거장은 여의도입니다.\"\n",
    "        },\n",
    "        {\n",
    "            \"role\": \"user\",\n",
    "            \"content\": \"language: Korean\"\n",
    "        },\n",
    "        {\n",
    "            \"role\": \"assistant\",\n",
    "            \"content\": \"Direction: 상행, \\\n",
    "            Current Station: 서울역, \\\n",
    "            Next Station: 여의도, \\\n",
    "            Destination: 여의도\"\n",
    "        },\n",
    "    ],\n",
    "    max_tokens=256,\n",
    "    top_p=1,\n",
    "    frequency_penalty=0,\n",
    "    presence_penalty=0\n",
    ")"
   ]
  },
  {
   "cell_type": "code",
   "execution_count": 42,
   "id": "b492d698",
   "metadata": {},
   "outputs": [
    {
     "data": {
      "text/plain": [
       "'곧 시청역에 도착합니다. 이 정류장에서 하차하시기를 준비해 주세요. 이 정류장에서 내리시는 경우 모든 물건을 가져가시는 것을 잊지 마세요. 오늘 저희와 함께 이용해 주셔서 감사합니다.\\n\\n다음으로, 여의도 역이 곧 도착합니다. 문이 닫히기 전에 문 앞에 떠나 주시기 바랍니다.'"
      ]
     },
     "execution_count": 42,
     "metadata": {},
     "output_type": "execute_result"
    }
   ],
   "source": [
    "response.choices[0].message.content"
   ]
  },
  {
   "cell_type": "code",
   "execution_count": 43,
   "id": "1c235bd9",
   "metadata": {},
   "outputs": [],
   "source": [
    "response = openai.ChatCompletion.create(\n",
    "    model=\"gpt-3.5-turbo\",\n",
    "    messages=[\n",
    "        {\n",
    "            \"role\": \"system\",\n",
    "            \"content\": \"Seoul Subway announcement to a passenger in the language set by a user\"\n",
    "        },\n",
    "        {\n",
    "            \"role\": \"assistant\",\n",
    "            \"content\": \"This station is City Hall. Next stop is the National Park. \\\n",
    "            Please prepare to exit the train. Please remember to take all of your belongings with you. Thank you for riding with us today.\"\n",
    "        },\n",
    "        {\n",
    "            \"role\": \"assistant\",\n",
    "            \"content\": \"이번 정거장은 시청역입니다. 다음 정거장은 여의도입니다.\"\n",
    "        },\n",
    "        {\n",
    "            \"role\": \"user\",\n",
    "            \"content\": \"language: Korean\"\n",
    "        },\n",
    "        {\n",
    "            \"role\": \"assistant\",\n",
    "            \"content\": \"Direction: 상행, \\\n",
    "            Current Station: 서울역, \\\n",
    "            Next Station: 여의도, \\\n",
    "            Destination: 여의도\"\n",
    "        },\n",
    "    ],\n",
    "    max_tokens=256,\n",
    "    top_p=1,\n",
    "    frequency_penalty=0,\n",
    "    presence_penalty=0\n",
    ")"
   ]
  },
  {
   "cell_type": "code",
   "execution_count": 44,
   "id": "fb54620d",
   "metadata": {},
   "outputs": [
    {
     "data": {
      "text/plain": [
       "'이번 역은 서울역입니다. 다음 역은 여의도입니다.            하차를 준비해 주세요. 모든 물품을 가져가시는 것을 잊지 마세요. 오늘도 저희와 함께 이용해 주셔서 감사합니다.'"
      ]
     },
     "execution_count": 44,
     "metadata": {},
     "output_type": "execute_result"
    }
   ],
   "source": [
    "response.choices[0].message.content"
   ]
  },
  {
   "cell_type": "code",
   "execution_count": 49,
   "id": "4114e2fb",
   "metadata": {},
   "outputs": [],
   "source": [
    "response = openai.ChatCompletion.create(\n",
    "    model=\"gpt-3.5-turbo\",\n",
    "    messages=[\n",
    "        {\n",
    "            \"role\": \"system\",\n",
    "            \"content\": \"Seoul Subway announcement to a passenger in the language set by a user\"\n",
    "        },\n",
    "        {\n",
    "            \"role\": \"assistant\",\n",
    "            \"content\": \"이번 정거장은 시청역입니다. 다음 정거장은 여의도입니다.\"\n",
    "        },\n",
    "        {\n",
    "            \"role\": \"user\",\n",
    "            \"content\": \"language: Korean\"\n",
    "        },\n",
    "        {\n",
    "            \"role\": \"system\",\n",
    "            \"content\": \"Direction: 상행, \\\n",
    "            Current Station: 서울역, \\\n",
    "            Next Station: 여의도, \\\n",
    "            Destination: 여의도\"\n",
    "        },\n",
    "    ],\n",
    "    max_tokens=256,\n",
    "    top_p=1,\n",
    "    frequency_penalty=0,\n",
    "    presence_penalty=0\n",
    ")"
   ]
  },
  {
   "cell_type": "code",
   "execution_count": 50,
   "id": "a7a625f6",
   "metadata": {},
   "outputs": [
    {
     "data": {
      "text/plain": [
       "'이번 정거장은 시청역입니다. 다음 정거장은 여의도입니다.'"
      ]
     },
     "execution_count": 50,
     "metadata": {},
     "output_type": "execute_result"
    }
   ],
   "source": [
    "response.choices[0].message.content"
   ]
  },
  {
   "cell_type": "code",
   "execution_count": 53,
   "id": "512fc983",
   "metadata": {},
   "outputs": [],
   "source": [
    "response = openai.ChatCompletion.create(\n",
    "    model=\"gpt-3.5-turbo\",\n",
    "    messages=[\n",
    "        {\n",
    "            \"role\": \"system\",\n",
    "            \"content\": \"Seoul Subway announcement to a passenger in the language set by a user\"\n",
    "        },\n",
    "        {\n",
    "            \"role\": \"assistant\",\n",
    "            \"content\": \"이번 정거장은 시청역입니다. 다음 정거장은 여의도입니다. \\\n",
    "            이 열차는 여의도까지 운행합니다. 이용에 참고하여 주시길 바랍니다.\"\n",
    "        },\n",
    "        {\n",
    "            \"role\": \"user\",\n",
    "            \"content\": \"language: Korean\"\n",
    "        },\n",
    "        {\n",
    "            \"role\": \"assistant\",\n",
    "            \"content\": \"Direction: 상행, \\\n",
    "            Current Station: 서울역, \\\n",
    "            Next Station: 여의도, \\\n",
    "            Last Station: 여의도\"\n",
    "        },\n",
    "    ],\n",
    "    max_tokens=256,\n",
    "    top_p=1,\n",
    "    frequency_penalty=0,\n",
    "    presence_penalty=0\n",
    ")"
   ]
  },
  {
   "cell_type": "code",
   "execution_count": 54,
   "id": "5266485c",
   "metadata": {},
   "outputs": [
    {
     "data": {
      "text/plain": [
       "'이번 정거장은 시청역입니다. 다음 정거장은 여의도입니다. 이 열차는 여의도까지 운행합니다. 이용에 참고하여 주시길 바랍니다.'"
      ]
     },
     "execution_count": 54,
     "metadata": {},
     "output_type": "execute_result"
    }
   ],
   "source": [
    "response.choices[0].message.content"
   ]
  },
  {
   "cell_type": "code",
   "execution_count": 55,
   "id": "16719f88",
   "metadata": {},
   "outputs": [],
   "source": [
    "response = openai.ChatCompletion.create(\n",
    "    model=\"gpt-3.5-turbo\",\n",
    "    messages=[\n",
    "        {\n",
    "            \"role\": \"system\",\n",
    "            \"content\": \"Seoul Subway announcement to a passenger in the language set by a user\"\n",
    "        },\n",
    "        {\n",
    "            \"role\": \"assistant\",\n",
    "            \"content\": \"이번 정거장은 시청역입니다. 다음 정거장은 여의도입니다. \\\n",
    "            이 열차는 여의도까지 운행합니다. 이용에 참고하여 주시길 바랍니다.\"\n",
    "        },\n",
    "        {\n",
    "            \"role\": \"user\",\n",
    "            \"content\": \"language: Korean\"\n",
    "        },\n",
    "        {\n",
    "            \"role\": \"assistant\",\n",
    "            \"content\": \"Direction: 상행, \\\n",
    "            Current Station: 서울역, \\\n",
    "            Next Station: 여의도, \\\n",
    "            Last Station: 여의도\"\n",
    "        },\n",
    "        {\n",
    "            \"role\": \"system\",\n",
    "            \"content\": \"Current Station: 합정, \\\n",
    "            Next Station: 신촌, \\\n",
    "            Last Station: 여의도\"\n",
    "        },\n",
    "    ],\n",
    "    max_tokens=256,\n",
    "    top_p=1,\n",
    "    frequency_penalty=0,\n",
    "    presence_penalty=0\n",
    ")"
   ]
  },
  {
   "cell_type": "code",
   "execution_count": 56,
   "id": "1fd9b94a",
   "metadata": {},
   "outputs": [
    {
     "data": {
      "text/plain": [
       "'다음 정거장은 신촌입니다.             이 열차는 여의도까지 운행합니다. 이용에 참고하여 주시길 바랍니다.'"
      ]
     },
     "execution_count": 56,
     "metadata": {},
     "output_type": "execute_result"
    }
   ],
   "source": [
    "response.choices[0].message.content"
   ]
  },
  {
   "cell_type": "code",
   "execution_count": 59,
   "id": "49d56393",
   "metadata": {},
   "outputs": [],
   "source": [
    "response = openai.ChatCompletion.create(\n",
    "    model=\"gpt-3.5-turbo\",\n",
    "    messages=[\n",
    "        {\n",
    "            \"role\": \"system\",\n",
    "            \"content\": \"Seoul Subway announcement to a passenger in the language set by a user\"\n",
    "        },\n",
    "        {\n",
    "            \"role\": \"assistant\",\n",
    "            \"content\": \"Direction: 상행, \\\n",
    "            Current Station: 서울역, \\\n",
    "            Next Station: 여의도, \\\n",
    "            Last Station: 여의도, \\\n",
    "            Message: 이번 정거장은 시청역입니다. 다음 정거장은 여의도입니다. \\\n",
    "            이 열차는 여의도까지 운행합니다. 이용에 참고하여 주시길 바랍니다.\"\n",
    "        },\n",
    "        {\n",
    "            \"role\": \"assistant\",\n",
    "            \"content\": \"Direction: 상행, \\\n",
    "            Current Station: 서울역, \\\n",
    "            Next Station: 여의도, \\\n",
    "            Last Station: 시청, \\\n",
    "            Message: 이번 정거장은 서울역입니다. 다음 정거장은 여의도입니다.\"\n",
    "        },\n",
    "        {\n",
    "            \"role\": \"user\",\n",
    "            \"content\": \"language: Korean\"\n",
    "        },\n",
    "        {\n",
    "            \"role\": \"system\",\n",
    "            \"content\": \"Current Station: 합정, \\\n",
    "            Next Station: 신촌, \\\n",
    "            Last Station: 여의도\"\n",
    "        },\n",
    "    ],\n",
    "    max_tokens=256,\n",
    "    top_p=1,\n",
    "    frequency_penalty=0,\n",
    "    presence_penalty=0\n",
    ")"
   ]
  },
  {
   "cell_type": "code",
   "execution_count": 60,
   "id": "bff91506",
   "metadata": {},
   "outputs": [
    {
     "data": {
      "text/plain": [
       "'방향: 상행,             현재 역: 합정,             다음 역: 신촌,             종착 역: 여의도,             안내 메시지: 이번 정거장은 합정역입니다. 다음 정거장은 신촌입니다. 이 열차는 여의도까지 운행합니다. 이용에 참고하여 주시길 바랍니다.'"
      ]
     },
     "execution_count": 60,
     "metadata": {},
     "output_type": "execute_result"
    }
   ],
   "source": [
    "response.choices[0].message.content"
   ]
  },
  {
   "cell_type": "code",
   "execution_count": 67,
   "id": "05ad8d11",
   "metadata": {},
   "outputs": [],
   "source": [
    "response = openai.ChatCompletion.create(\n",
    "    model=\"gpt-3.5-turbo\",\n",
    "    messages=[\n",
    "        {\n",
    "            \"role\": \"system\",\n",
    "            \"content\": \"Seoul Subway announcement to a passenger in the language set by a user\"\n",
    "        },\n",
    "        {\n",
    "            \"role\": \"assistant\",\n",
    "            \"content\": \"\"\"\n",
    "            Direction: 상행,\n",
    "            Current Station: 서울역,\n",
    "            Next Station: 여의도,\n",
    "            Last Station: 여의도,\n",
    "            isLastStation: True,\n",
    "            announcement: 이번 정거장은 시청역입니다. 다음 정거장은 여의도입니다.\n",
    "            이 열차는 여의도까지 운행합니다. 이용에 참고하여 주시길 바랍니다.\n",
    "            \n",
    "            \"role\": \"assistant\",\n",
    "            \"content\": \"Direction: 상행,\n",
    "            Current Station: 서울역,\n",
    "            Next Station: 여의도,\n",
    "            Last Station: 시청,\n",
    "            isLastStation: False,\n",
    "            announcement: 이번 정거장은 서울역입니다. 다음 정거장은 여의도입니다.\"\n",
    "            \"\"\"\n",
    "        },\n",
    "        {\n",
    "            \"role\": \"user\",\n",
    "            \"content\": \"language: Korean\"\n",
    "        },\n",
    "        {\n",
    "            \"role\": \"system\",\n",
    "            \"content\": \"\"\"\n",
    "            Current Station: 합정,\n",
    "            Next Station: 신촌,\n",
    "            Last Station: 여의도,\n",
    "            isLastStation: False\n",
    "            announcement:\n",
    "            \"\"\"\n",
    "        },\n",
    "    ],\n",
    "    max_tokens=256,\n",
    "    top_p=1,\n",
    "    frequency_penalty=0,\n",
    "    presence_penalty=0\n",
    ")"
   ]
  },
  {
   "cell_type": "code",
   "execution_count": 68,
   "id": "24f6fefb",
   "metadata": {},
   "outputs": [
    {
     "data": {
      "text/plain": [
       "'이번 정거장은 합정역입니다. 다음 정거장은 신촌역입니다. 이 열차는 여의도까지 운행되는 열차입니다. 안내를 꼭 따라주시기 바랍니다.'"
      ]
     },
     "execution_count": 68,
     "metadata": {},
     "output_type": "execute_result"
    }
   ],
   "source": [
    "response.choices[0].message.content"
   ]
  },
  {
   "cell_type": "code",
   "execution_count": 71,
   "id": "17496823",
   "metadata": {},
   "outputs": [],
   "source": [
    "response = openai.ChatCompletion.create(\n",
    "    model=\"gpt-3.5-turbo\",\n",
    "    messages=[\n",
    "        {\n",
    "            \"role\": \"system\",\n",
    "            \"content\": \"Seoul Subway announcement to a passenger in the language set by a user\"\n",
    "        },\n",
    "        {\n",
    "            \"role\": \"assistant\",\n",
    "            \"content\": \"\"\"\n",
    "            Direction: 상행,\n",
    "            Current Station: 서울역,\n",
    "            Next Station: 여의도,\n",
    "            Last Station: 여의도,\n",
    "            isLastStation: True,\n",
    "            announcement: 이번 정거장은 시청역입니다. 다음 정거장은 여의도입니다.\n",
    "            이 열차는 여의도까지 운행합니다. 이용에 참고하여 주시길 바랍니다.\n",
    "            \n",
    "            \"role\": \"assistant\",\n",
    "            \"content\": \"Direction: 상행,\n",
    "            Current Station: 서울역,\n",
    "            Next Station: 여의도,\n",
    "            Last Station: 시청,\n",
    "            isLastStation: False,\n",
    "            announcement: 이번 정거장은 서울역입니다. 다음 정거장은 여의도입니다.\"\n",
    "            \"\"\"\n",
    "        },\n",
    "        {\n",
    "            \"role\": \"user\",\n",
    "            \"content\": \"language: Korean\"\n",
    "        },\n",
    "        {\n",
    "            \"role\": \"system\",\n",
    "            \"content\": \"\"\"\n",
    "            Current Station: 합정,\n",
    "            Next Station: 신촌,\n",
    "            Last Station: 강남구청,\n",
    "            isLastStation: False\n",
    "            announcement:\n",
    "            \"\"\"\n",
    "        },\n",
    "    ],\n",
    "    max_tokens=256,\n",
    "    top_p=0.8,\n",
    "    frequency_penalty=0,\n",
    "    presence_penalty=0\n",
    ")"
   ]
  },
  {
   "cell_type": "code",
   "execution_count": 72,
   "id": "9752b8e2",
   "metadata": {},
   "outputs": [
    {
     "data": {
      "text/plain": [
       "'이번 정거장은 합정입니다. 다음 정거장은 신촌입니다. 현재 운행중인 열차는 강남구청까지 운행합니다. 이용에 참고하여 주시기 바랍니다.'"
      ]
     },
     "execution_count": 72,
     "metadata": {},
     "output_type": "execute_result"
    }
   ],
   "source": [
    "response.choices[0].message.content"
   ]
  },
  {
   "cell_type": "code",
   "execution_count": 73,
   "id": "c164bb5a",
   "metadata": {},
   "outputs": [],
   "source": [
    "language = \"Korean\"\n",
    "response = openai.ChatCompletion.create(\n",
    "    model=\"gpt-3.5-turbo\",\n",
    "    messages=[\n",
    "        {\n",
    "            \"role\": \"system\",\n",
    "            \"content\": f\"Seoul Subway announcement to a passenger in {language}\"\n",
    "        },\n",
    "        {\n",
    "            \"role\": \"user\",\n",
    "            \"content\": \"\"\"\n",
    "            Direction: 상행,\n",
    "            Current Station: 서울역,\n",
    "            Next Station: 여의도,\n",
    "            Last Station: 여의도,\n",
    "            isLastStation: True\n",
    "            \"\"\"\n",
    "        },\n",
    "        {\n",
    "            \"role\": \"assistant\",\n",
    "            \"content\": \"이번 정거장은 시청역입니다. 다음 정거장은 여의도입니다. \\\n",
    "            이 열차는 여의도까지 운행합니다. 이용에 참고하여 주시길 바랍니다.\"\n",
    "        },\n",
    "        {\n",
    "            \"role\": \"user\",\n",
    "            \"content\": \"\"\"\n",
    "            Direction: 상행,\n",
    "            Current Station: 서울역,\n",
    "            Next Station: 여의도,\n",
    "            Last Station: 시청,\n",
    "            isLastStation: False\n",
    "            \"\"\"\n",
    "        },\n",
    "        {\n",
    "            \"role\": \"assistant\",\n",
    "            \"content\": \"이번 정거장은 서울역입니다. 다음 정거장은 여의도입니다\"\n",
    "        },\n",
    "        {\n",
    "            \"role\": \"user\",\n",
    "            \"content\": \"\"\"\n",
    "            Current Station: 합정,\n",
    "            Next Station: 신촌,\n",
    "            Last Station: 강남구청,\n",
    "            isLastStation: False\n",
    "            \"\"\"\n",
    "        },\n",
    "    ],\n",
    "    max_tokens=256,\n",
    "    top_p=0.8,\n",
    "    frequency_penalty=0,\n",
    "    presence_penalty=0\n",
    ")"
   ]
  },
  {
   "cell_type": "code",
   "execution_count": 74,
   "id": "4d5f05a4",
   "metadata": {},
   "outputs": [
    {
     "data": {
      "text/plain": [
       "'이번 정거장은 합정입니다. 다음 정거장은 신촌입니다. 이 열차는 강남구청까지 운행합니다. 이용에 참고하여 주시길 바랍니다.'"
      ]
     },
     "execution_count": 74,
     "metadata": {},
     "output_type": "execute_result"
    }
   ],
   "source": [
    "response.choices[0].message.content"
   ]
  },
  {
   "cell_type": "code",
   "execution_count": 19,
   "id": "d35879c3",
   "metadata": {},
   "outputs": [],
   "source": [
    "weather_condition = \"\"\"\n",
    "    WeatherText: Partly cloudy\n",
    "    HasPrecipitation: False\n",
    "    Temperature: {'Metric': {'Value': 28.2, 'Unit': 'C', 'UnitType': 17}, 'Imperial': {'Value': 83.0, 'Unit': 'F', 'UnitType': 18}}\n",
    "    RealFeelTemperature: {'Metric': {'Value': 32.2, 'Unit': 'C', 'UnitType': 17, 'Phrase': 'Hot'}, 'Imperial': {'Value': 90.0, 'Unit': 'F', 'UnitType': 18, 'Phrase': 'Hot'}}\n",
    "    Visibility: {'Metric': {'Value': 17.7, 'Unit': 'km', 'UnitType': 6}, 'Imperial': {'Value': 11.0, 'Unit': 'mi', 'UnitType': 2}}\n",
    "    Wind Speed: {'Metric': {'Value': 1.4, 'Unit': 'km/h', 'UnitType': 7}, 'Imperial': {'Value': 0.9, 'Unit': 'mi/h', 'UnitType': 9}}\n",
    "    RelativeHumidity: 69\n",
    "    CloudCover: 40\n",
    "    PressureTendency: Steady\n",
    "\"\"\"\n",
    "\n",
    "city_traffic_speed = 27\n",
    "\n",
    "messages = [\n",
    "        {\n",
    "            \"role\": \"system\",\n",
    "            \"content\": \"\"\"\n",
    "                You're an AI making announcements to the bus passengers.\n",
    "            \"\"\"\n",
    "        },\n",
    "        {\n",
    "            \"role\": \"assistant\",\n",
    "            \"content\": f\"\"\"\n",
    "                Current stop: 합정\n",
    "                Next stop: 신촌\n",
    "                General Message: 이번 정거장은 Current Stop입니다. 다음 정거장은 Next Stop입니다.\n",
    "            \"\"\"\n",
    "        },\n",
    "        {\n",
    "            \"role\": \"system\",\n",
    "            \"content\": \"\"\"\n",
    "                Please generate an announcement for the passengers on the bus, including information about the current stop, the next stop, and any extra information.\n",
    "            \"\"\"\n",
    "        },\n",
    "        {\n",
    "            \"role\": \"system\",\n",
    "            \"content\": \"User's device language is set to Korean.\"\n",
    "        },\n",
    "        {\n",
    "            \"role\": \"system\",\n",
    "            \"content\": f\"\"\"\n",
    "                Generate special alert with the weather condition and city traffic speed, only when they are directly related to the certain traffic condition\n",
    "                such as congestion, otherwise ignore:\n",
    "                Weather Condition: {weather_condition}\n",
    "                City Traffic Speed: {city_traffic_speed}\n",
    "            \"\"\"\n",
    "        }\n",
    "    ]\n",
    "\n",
    "\n",
    "response = openai.ChatCompletion.create(\n",
    "    model=\"gpt-3.5-turbo\",\n",
    "    messages=messages,\n",
    "    max_tokens=500,\n",
    "    top_p=0.8,\n",
    "    frequency_penalty=0,\n",
    "    presence_penalty=0\n",
    ")"
   ]
  },
  {
   "cell_type": "code",
   "execution_count": 20,
   "id": "602052d9",
   "metadata": {
    "scrolled": false
   },
   "outputs": [
    {
     "data": {
      "text/plain": [
       "'\\n                [Korean]\\n                현재 정거장: 합정\\n                다음 정거장: 신촌\\n                날씨 정보: 구름이 조금 낀 흐린 날씨입니다. 강수는 없으며, 기온은 28.2도입니다. 체감온도는 32.2도로 더욱 더워지겠습니다. 시야는 17.7km로 좋습니다. 바람은 약간의 바람이 불고 있으며, 습도는 69%입니다. 도시 내 교통 속도는 27km/h로 현재 다소 혼잡하니 이용에 참고하시기 바랍니다.\\n\\n                [English]\\n                Current stop: 합정\\n                Next stop: 신촌\\n                Weather information: It is partly cloudy with no precipitation. The temperature is 28.2 degrees Celsius, but it will feel hotter with a real feel temperature of 32.2 degrees Celsius. Visibility is good at 17.7 km. There is a light breeze and the humidity is 69%. The city traffic speed is currently 27 km/h, indicating some congestion. Please take note of this when planning your journey.'"
      ]
     },
     "execution_count": 20,
     "metadata": {},
     "output_type": "execute_result"
    }
   ],
   "source": [
    "response.choices[0].message.content"
   ]
  },
  {
   "cell_type": "code",
   "execution_count": 113,
   "id": "93c5a531",
   "metadata": {},
   "outputs": [],
   "source": [
    "accessibility_info = \"승강기 위치는 9번 출구쪽에 있습니다 승강기를 이용하여 2층 대합실로 올라가십시오. 좌측 방향으로 이동하여 우측 개찰구를 통과하십시오. 승강기를 이용하여 승강장으로 올라가십시오.\"\n",
    "poi_locator = \"\"\"\n",
    "    1(exit) 상계6.7동 주민센터, 상계7동 치안센터, 상계중학교, 상계 119안전센터, 성민복지관 2(exit) 노원구청, \n",
    "    신상중학교, 상수초등학교, 한국성서대학교, 상계주공아파트 1-6단지, 기업은행 노원역지점, KDB산업은행, \n",
    "    한국전력공사북부지점, 노원 헌혈의 집 3(exit) 운전면허시험장,용화여고, 4(exit) 수협,기업은행,상계초등교,\n",
    "    국민은행, 9(exit) 상계동, 창동지하철차량기지, 도봉운전면허시험장, 용화여고, 상월초등학교, 대림.현대아파트, \n",
    "    상계주공아파트 10(exit) 상계2동주민센터, 상계10동우체국, 상계초등학교, 온곡중학교, 우성아파트, 동양메이저아파트\n",
    "\"\"\"\n",
    "\n",
    "response = openai.ChatCompletion.create(\n",
    "    model=\"gpt-3.5-turbo-16k\",\n",
    "    messages=[\n",
    "        {\n",
    "            \"role\": \"system\",\n",
    "            \"content\": f\"\"\"\n",
    "                You're a friendly AI providing helpful and easy-to-understand information about the facilities \n",
    "                available at each subway station and the instrunction to the subway users in Seoul \n",
    "                with the given details:\n",
    "                Accessibility information: {accessibility_info}\n",
    "                POI locator: {poi_locator}\n",
    "            \"\"\"\n",
    "        },\n",
    "        {\n",
    "            \"role\": \"system\",\n",
    "            \"content\": f\"\"\"\n",
    "                Include the following:\n",
    "                - A detailed paragraph explaining the accessibility information\n",
    "                - A sentence highlighting the most commonly visited POIs or most recognized places near the station the user might look for\n",
    "                - A detailed paragraph explaining the POI locator information, including all exits and nearby places\n",
    "\n",
    "            \"\"\"\n",
    "        },\n",
    "        {\n",
    "            \"role\": \"system\",\n",
    "            \"content\": \"User's device language is set to Korean.\"\n",
    "        },\n",
    "        {\n",
    "            \"role\": \"system\",\n",
    "            \"content\": \"\"\"\n",
    "                Generate the message in the format of: \n",
    "                {accessibility_information: \"\", POI_locator: {sentence: \"\", paragraph: \"\"}}\n",
    "            \"\"\"\n",
    "        },\n",
    "    ],\n",
    "    top_p=0.8,\n",
    "    max_tokens=1200,\n",
    "    frequency_penalty=0,\n",
    "    presence_penalty=0\n",
    ")"
   ]
  },
  {
   "cell_type": "code",
   "execution_count": 114,
   "id": "87e2413c",
   "metadata": {},
   "outputs": [
    {
     "data": {
      "text/plain": [
       "'{\\n  \"accessibility_information\": \"노원역은 승강기가 있습니다. 승강기 위치는 9번 출구쪽에 있습니다. 9번 출구로 나와서 승강기를 이용하여 2층 대합실로 올라가십시오. 대합실에서 좌측 방향으로 이동하여 우측 개찰구를 통과하십시오. 다시 승강기를 이용하여 승강장으로 올라가십시오.\",\\n  \"POI_locator\": {\\n    \"sentence\": \"노원역 주변에는 상계6.7동 주민센터, 상계7동 치안센터, 상계중학교, 상계 119안전센터, 성민복지관 등이 있습니다.\",\\n    \"paragraph\": \"노원역은 다양한 주요 시설과 가까운 위치에 있습니다. 1번 출구 쪽에는 상계6.7동 주민센터, 상계7동 치안센터, 상계중학교, 상계 119안전센터, 성민복지관이 있습니다. 2번 출구 쪽에는 노원구청, 신상중학교, 상수초등학교, 한국성서대학교, 상계주공아파트 1-6단지, 기업은행 노원역지점, KDB산업은행, 한국전력공사북부지점, 노원 헌혈의 집이 있습니다. 3번 출구 쪽에는 운전면허시험장, 용화여고가 있습니다. 4번 출구 쪽에는 수협, 기업은행, 상계초등교, 국민은행이 있습니다. 9번 출구 쪽에는 상계동, 창동지하철차량기지, 도봉운전면허시험장, 용화여고, 상월초등학교, 대림.현대아파트, 상계주공아파트가 있습니다. 10번 출구 쪽에는 상계2동주민센터, 상계10동우체국, 상계초등학교, 온곡중학교, 우성아파트, 동양메이저아파트가 있습니다.\"\\n  }\\n}'"
      ]
     },
     "execution_count": 114,
     "metadata": {},
     "output_type": "execute_result"
    }
   ],
   "source": [
    "response.choices[0].message.content"
   ]
  },
  {
   "cell_type": "code",
   "execution_count": null,
   "id": "ccc91306",
   "metadata": {},
   "outputs": [],
   "source": []
  }
 ],
 "metadata": {
  "kernelspec": {
   "display_name": "Python 3 (ipykernel)",
   "language": "python",
   "name": "python3"
  },
  "language_info": {
   "codemirror_mode": {
    "name": "ipython",
    "version": 3
   },
   "file_extension": ".py",
   "mimetype": "text/x-python",
   "name": "python",
   "nbconvert_exporter": "python",
   "pygments_lexer": "ipython3",
   "version": "3.10.5"
  }
 },
 "nbformat": 4,
 "nbformat_minor": 5
}
