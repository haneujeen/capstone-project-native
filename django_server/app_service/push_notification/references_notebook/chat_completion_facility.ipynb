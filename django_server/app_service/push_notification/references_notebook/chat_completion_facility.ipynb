{
 "cells": [
  {
   "cell_type": "code",
   "execution_count": 70,
   "id": "06498fee",
   "metadata": {},
   "outputs": [],
   "source": [
    "import openai"
   ]
  },
  {
   "cell_type": "code",
   "execution_count": 71,
   "id": "1da36203",
   "metadata": {},
   "outputs": [],
   "source": [
    "from dotenv import dotenv_values"
   ]
  },
  {
   "cell_type": "code",
   "execution_count": 72,
   "id": "62cb7a99",
   "metadata": {},
   "outputs": [],
   "source": [
    "config = dotenv_values(\"../.env\")"
   ]
  },
  {
   "cell_type": "code",
   "execution_count": 73,
   "id": "58c70913",
   "metadata": {},
   "outputs": [],
   "source": [
    "openai.api_key = config[\"OPENAI_API_KEY\"]"
   ]
  },
  {
   "cell_type": "code",
   "execution_count": 74,
   "id": "8ed9a42b",
   "metadata": {},
   "outputs": [],
   "source": [
    "response = openai.ChatCompletion.create(\n",
    "    model=\"gpt-3.5-turbo\",\n",
    "    messages=[\n",
    "        {\n",
    "            \"role\": \"system\",\n",
    "            \"content\": \"Answer in a consistent style.\"\n",
    "        },\n",
    "        {\n",
    "            \"role\": \"user\",\n",
    "            \"content\": \"Teach me about patience.\"\n",
    "        },\n",
    "        {\n",
    "            \"role\": \"assistant\",\n",
    "            \"content\": \"The river that carves the deepest valley flows from a modest spring; the grandest symphony originates from a single note; the most intricate tapestry begins with a solitary thread.\"\n",
    "        },\n",
    "        {\n",
    "            \"role\": \"user\",\n",
    "            \"content\": \"Teach me about the ocean.\"\n",
    "        }\n",
    "    ],\n",
    "    max_tokens=256,\n",
    "    top_p=1,\n",
    "    frequency_penalty=0,\n",
    "    presence_penalty=0\n",
    ")"
   ]
  },
  {
   "cell_type": "code",
   "execution_count": 19,
   "id": "1a6d330c",
   "metadata": {},
   "outputs": [
    {
     "data": {
      "text/plain": [
       "\"The ocean, a vast expanse of water that covers approximately 71% of our planet's surface, is a marvel of nature that holds countless mysteries and breathtaking beauty. It is a dynamic and ever-changing ecosystem, home to a diverse array of marine life and teeming with wonders beyond imagination.\\n\\nThe ocean plays a crucial role in regulating Earth's climate and weather patterns, acting as a giant heat sink and redistributing heat around the globe through ocean currents. It also provides a source of sustenance and livelihood for millions of people who depend on fishing and other marine resources.\\n\\nThe ocean is made up of different zones, each with its own unique characteristics. The sunlit surface zone, known as the euphotic zone, is where sunlight can penetrate and supports a vibrant ecosystem filled with phytoplankton, fish, and other marine creatures. As we descend deeper into the ocean, we encounter the twilight zone, where light starts to fade, and diverse adaptations help organisms survive in the dimly lit environment. Finally, in the depths of the ocean lies the abyssal zone, where conditions are extreme, the pressure is intense, and life has adapted to survive in extreme darkness and cold.\\n\\nThe ocean also harbors extraordinary features such as coral reefs, underwater mountains (seamounts),\""
      ]
     },
     "execution_count": 19,
     "metadata": {},
     "output_type": "execute_result"
    }
   ],
   "source": [
    "response.choices[0].message.content"
   ]
  },
  {
   "cell_type": "code",
   "execution_count": 23,
   "id": "aebd8e84",
   "metadata": {},
   "outputs": [],
   "source": [
    "response = openai.ChatCompletion.create(\n",
    "    model=\"gpt-3.5-turbo\",\n",
    "    messages=[\n",
    "        {\n",
    "            \"role\": \"system\",\n",
    "            \"content\": \"Subway announcement to a passenger\"\n",
    "        },\n",
    "        {\n",
    "            \"role\": \"assistant\",\n",
    "            \"content\": \"Direction: 상행, Current Station: 서울역, Next Station: 여의도\"\n",
    "        },\n",
    "    ],\n",
    "    max_tokens=50,\n",
    "    top_p=1,\n",
    "    frequency_penalty=0,\n",
    "    presence_penalty=0\n",
    ")"
   ]
  },
  {
   "cell_type": "code",
   "execution_count": 24,
   "id": "57ba3280",
   "metadata": {},
   "outputs": [
    {
     "data": {
      "text/plain": [
       "'Attention passengers, we are approaching the next station, 여의도. Please prepare to exit the train. Thank you for riding with us.'"
      ]
     },
     "execution_count": 24,
     "metadata": {},
     "output_type": "execute_result"
    }
   ],
   "source": [
    "response.choices[0].message.content"
   ]
  },
  {
   "cell_type": "code",
   "execution_count": 25,
   "id": "b643b0a5",
   "metadata": {},
   "outputs": [],
   "source": [
    "response = openai.ChatCompletion.create(\n",
    "    model=\"gpt-3.5-turbo\",\n",
    "    messages=[\n",
    "        {\n",
    "            \"role\": \"system\",\n",
    "            \"content\": \"Subway announcement to a passenger\"\n",
    "        },\n",
    "        {\n",
    "            \"role\": \"system\",\n",
    "            \"content\": \"language: Korean\"\n",
    "        },\n",
    "        {\n",
    "            \"role\": \"assistant\",\n",
    "            \"content\": \"Direction: 상행, \\\n",
    "            Current Station: 서울역, \\\n",
    "            Next Station: 여의도\"\n",
    "        },\n",
    "    ],\n",
    "    max_tokens=50,\n",
    "    top_p=1,\n",
    "    frequency_penalty=0,\n",
    "    presence_penalty=0\n",
    ")"
   ]
  },
  {
   "cell_type": "code",
   "execution_count": 26,
   "id": "98e80f64",
   "metadata": {},
   "outputs": [
    {
     "data": {
      "text/plain": [
       "'지하철에 오신 것을 환영합니다. 현재 열차는 상행으로 운행 중입니다. 다음 역은 여의도입니다.\\n\\n서울역에서 여'"
      ]
     },
     "execution_count": 26,
     "metadata": {},
     "output_type": "execute_result"
    }
   ],
   "source": [
    "response.choices[0].message.content"
   ]
  },
  {
   "cell_type": "code",
   "execution_count": 27,
   "id": "a6de8316",
   "metadata": {},
   "outputs": [],
   "source": [
    "response = openai.ChatCompletion.create(\n",
    "    model=\"gpt-3.5-turbo\",\n",
    "    messages=[\n",
    "        {\n",
    "            \"role\": \"system\",\n",
    "            \"content\": \"Seoul Subway announcement to a passenger\"\n",
    "        },\n",
    "        {\n",
    "            \"role\": \"system\",\n",
    "            \"content\": \"language: Korean\"\n",
    "        },\n",
    "        {\n",
    "            \"role\": \"assistant\",\n",
    "            \"content\": \"Direction: 상행, \\\n",
    "            Current Station: 서울역, \\\n",
    "            Next Station: 여의도\"\n",
    "        },\n",
    "    ],\n",
    "    max_tokens=256,\n",
    "    top_p=1,\n",
    "    frequency_penalty=0,\n",
    "    presence_penalty=0\n",
    ")"
   ]
  },
  {
   "cell_type": "code",
   "execution_count": 28,
   "id": "c236db57",
   "metadata": {},
   "outputs": [
    {
     "data": {
      "text/plain": [
       "'경고: 문이 닫힙니다. 승객 여러분께서 여의도 역에서 하차하시기 바랍니다. 다음 역은 여의도 역입니다.'"
      ]
     },
     "execution_count": 28,
     "metadata": {},
     "output_type": "execute_result"
    }
   ],
   "source": [
    "response.choices[0].message.content"
   ]
  },
  {
   "cell_type": "code",
   "execution_count": 29,
   "id": "2c3ae1f7",
   "metadata": {},
   "outputs": [],
   "source": [
    "response = openai.ChatCompletion.create(\n",
    "    model=\"gpt-3.5-turbo\",\n",
    "    messages=[\n",
    "        {\n",
    "            \"role\": \"system\",\n",
    "            \"content\": \"Seoul Subway announcement to a passenger\"\n",
    "        },\n",
    "        {\n",
    "            \"role\": \"system\",\n",
    "            \"content\": \"language: Korean\"\n",
    "        },\n",
    "        {\n",
    "            \"role\": \"assistant\",\n",
    "            \"content\": \"Direction: 상행, \\\n",
    "            Current Station: 서울역, \\\n",
    "            Next Station: 여의도\"\n",
    "        },\n",
    "    ],\n",
    "    max_tokens=256,\n",
    "    top_p=1,\n",
    "    frequency_penalty=0,\n",
    "    presence_penalty=0\n",
    ")"
   ]
  },
  {
   "cell_type": "code",
   "execution_count": 30,
   "id": "9172c68d",
   "metadata": {},
   "outputs": [
    {
     "data": {
      "text/plain": [
       "'\"다음 역은 여의도입니다. 상행으로 진행되는 열차에 꼭 착석하여 주시기 바랍니다. 감사합니다.\"'"
      ]
     },
     "execution_count": 30,
     "metadata": {},
     "output_type": "execute_result"
    }
   ],
   "source": [
    "response.choices[0].message.content"
   ]
  },
  {
   "cell_type": "code",
   "execution_count": 32,
   "id": "053b3b2d",
   "metadata": {},
   "outputs": [],
   "source": [
    "response = openai.ChatCompletion.create(\n",
    "    model=\"gpt-3.5-turbo\",\n",
    "    messages=[\n",
    "        {\n",
    "            \"role\": \"system\",\n",
    "            \"content\": \"Seoul Subway announcement to a passenger\"\n",
    "        },\n",
    "        {\n",
    "            \"role\": \"system\",\n",
    "            \"content\": \"language: Korean\"\n",
    "        },\n",
    "        {\n",
    "            \"role\": \"system\",\n",
    "            \"content\": \"Attention passengers, we are approaching City Hall station. Please prepare to exit the train. If this is your stop, please remember to take all of your belongings with you. Thank you for riding with us today.\\n\\nNext stop, National Park. Please stand clear of the doors as they will be closing.\"\n",
    "        },\n",
    "        {\n",
    "            \"role\": \"assistant\",\n",
    "            \"content\": \"Direction: 상행, \\\n",
    "            Current Station: 서울역, \\\n",
    "            Next Station: 여의도\"\n",
    "        },\n",
    "    ],\n",
    "    max_tokens=256,\n",
    "    top_p=1,\n",
    "    frequency_penalty=0,\n",
    "    presence_penalty=0\n",
    ")"
   ]
  },
  {
   "cell_type": "code",
   "execution_count": 33,
   "id": "cdef4e5b",
   "metadata": {},
   "outputs": [
    {
     "data": {
      "text/plain": [
       "'주의하세요. 곧 도착 예정인 역은 시청역입니다. 하차를 준비해주세요. 만약 이 역이 여러분의 하차 정류장이라면 모든 소지품을 가져가셔야 합니다. 오늘 하루 지하철을 이용해 주셔서 감사합니다.\\n\\n다음 정거장은 국립 공원입니다. 문이 닫힐 예정이니 문에 주의하시고 안전하게 대기해주세요.'"
      ]
     },
     "execution_count": 33,
     "metadata": {},
     "output_type": "execute_result"
    }
   ],
   "source": [
    "response.choices[0].message.content"
   ]
  },
  {
   "cell_type": "code",
   "execution_count": 37,
   "id": "a458a0dd",
   "metadata": {},
   "outputs": [],
   "source": [
    "response = openai.ChatCompletion.create(\n",
    "    model=\"gpt-3.5-turbo\",\n",
    "    messages=[\n",
    "        {\n",
    "            \"role\": \"system\",\n",
    "            \"content\": \"Seoul Subway announcement to a passenger\"\n",
    "        },\n",
    "        {\n",
    "            \"role\": \"system\",\n",
    "            \"content\": \"We are approaching City Hall station. Please prepare to exit the train. If this is your stop, please remember to take all of your belongings with you. Thank you for riding with us today.\\n\\nNext stop, National Park. Please stand clear of the doors as they will be closing.\"\n",
    "        },\n",
    "        {\n",
    "            \"role\": \"system\",\n",
    "            \"content\": \"이번 정거장은 시청역입니다. 다음 정거장은 여의도입니다.\"\n",
    "        },\n",
    "        {\n",
    "            \"role\": \"system\",\n",
    "            \"content\": \"language: Korean\"\n",
    "        },\n",
    "        {\n",
    "            \"role\": \"assistant\",\n",
    "            \"content\": \"Direction: 상행, \\\n",
    "            Current Station: 서울역, \\\n",
    "            Next Station: 여의도, \\\n",
    "            Destination: 여의도\"\n",
    "        },\n",
    "    ],\n",
    "    max_tokens=256,\n",
    "    top_p=1,\n",
    "    frequency_penalty=0,\n",
    "    presence_penalty=0\n",
    ")"
   ]
  },
  {
   "cell_type": "code",
   "execution_count": 38,
   "id": "eec97125",
   "metadata": {},
   "outputs": [
    {
     "data": {
      "text/plain": [
       "'Next stop, City Hall. Please make sure to take all your belongings with you as you exit the train. Thank you for riding with Seoul Subway.'"
      ]
     },
     "execution_count": 38,
     "metadata": {},
     "output_type": "execute_result"
    }
   ],
   "source": [
    "response.choices[0].message.content"
   ]
  },
  {
   "cell_type": "code",
   "execution_count": 39,
   "id": "96481eb0",
   "metadata": {},
   "outputs": [],
   "source": [
    "response = openai.ChatCompletion.create(\n",
    "    model=\"gpt-3.5-turbo\",\n",
    "    messages=[\n",
    "        {\n",
    "            \"role\": \"system\",\n",
    "            \"content\": \"Seoul Subway announcement to a passenger in the language set by a user\"\n",
    "        },\n",
    "        {\n",
    "            \"role\": \"system\",\n",
    "            \"content\": \"We are approaching City Hall station. Please prepare to exit the train. If this is your stop, please remember to take all of your belongings with you. Thank you for riding with us today.\\n\\nNext stop, National Park. Please stand clear of the doors as they will be closing.\"\n",
    "        },\n",
    "        {\n",
    "            \"role\": \"system\",\n",
    "            \"content\": \"이번 정거장은 시청역입니다. 다음 정거장은 여의도입니다.\"\n",
    "        },\n",
    "        {\n",
    "            \"role\": \"user\",\n",
    "            \"content\": \"language: Korean\"\n",
    "        },\n",
    "        {\n",
    "            \"role\": \"assistant\",\n",
    "            \"content\": \"Direction: 상행, \\\n",
    "            Current Station: 서울역, \\\n",
    "            Next Station: 여의도, \\\n",
    "            Destination: 여의도\"\n",
    "        },\n",
    "    ],\n",
    "    max_tokens=256,\n",
    "    top_p=1,\n",
    "    frequency_penalty=0,\n",
    "    presence_penalty=0\n",
    ")"
   ]
  },
  {
   "cell_type": "code",
   "execution_count": 40,
   "id": "957eb0fd",
   "metadata": {},
   "outputs": [
    {
     "data": {
      "text/plain": [
       "'안녕하세요, 여러분. 저희는 이제 곧 시청역에 도착합니다. 만약 이 정거장이 여러분의 하차 정거장이라면, 모든 물건을 가져가시는 것을 잊지 마세요. 오늘 함께 지하철을 이용해 주셔서 감사합니다.\\n\\n다음은 국립공원역입니다. 문이 닫힐 예정이니 문 앞에 서지 마시고, 빠르게 내리실 준비를 해주세요. 감사합니다.\\n\\n다음 역은 여의도입니다. 문이 닫힐 예정이니 문 앞에 서지 마시고, 빠르게 내리실 준비를 해주세요. 감사합니다.'"
      ]
     },
     "execution_count": 40,
     "metadata": {},
     "output_type": "execute_result"
    }
   ],
   "source": [
    "response.choices[0].message.content"
   ]
  },
  {
   "cell_type": "code",
   "execution_count": 41,
   "id": "6748cbc3",
   "metadata": {},
   "outputs": [],
   "source": [
    "response = openai.ChatCompletion.create(\n",
    "    model=\"gpt-3.5-turbo\",\n",
    "    messages=[\n",
    "        {\n",
    "            \"role\": \"system\",\n",
    "            \"content\": \"Seoul Subway announcement to a passenger in the language set by a user\"\n",
    "        },\n",
    "        {\n",
    "            \"role\": \"assistant\",\n",
    "            \"content\": \"We are approaching City Hall station. Please prepare to exit the train. If this is your stop, please remember to take all of your belongings with you. Thank you for riding with us today.\\n\\nNext stop, National Park. Please stand clear of the doors as they will be closing.\"\n",
    "        },\n",
    "        {\n",
    "            \"role\": \"assistant\",\n",
    "            \"content\": \"이번 정거장은 시청역입니다. 다음 정거장은 여의도입니다.\"\n",
    "        },\n",
    "        {\n",
    "            \"role\": \"user\",\n",
    "            \"content\": \"language: Korean\"\n",
    "        },\n",
    "        {\n",
    "            \"role\": \"assistant\",\n",
    "            \"content\": \"Direction: 상행, \\\n",
    "            Current Station: 서울역, \\\n",
    "            Next Station: 여의도, \\\n",
    "            Destination: 여의도\"\n",
    "        },\n",
    "    ],\n",
    "    max_tokens=256,\n",
    "    top_p=1,\n",
    "    frequency_penalty=0,\n",
    "    presence_penalty=0\n",
    ")"
   ]
  },
  {
   "cell_type": "code",
   "execution_count": 42,
   "id": "b492d698",
   "metadata": {},
   "outputs": [
    {
     "data": {
      "text/plain": [
       "'곧 시청역에 도착합니다. 이 정류장에서 하차하시기를 준비해 주세요. 이 정류장에서 내리시는 경우 모든 물건을 가져가시는 것을 잊지 마세요. 오늘 저희와 함께 이용해 주셔서 감사합니다.\\n\\n다음으로, 여의도 역이 곧 도착합니다. 문이 닫히기 전에 문 앞에 떠나 주시기 바랍니다.'"
      ]
     },
     "execution_count": 42,
     "metadata": {},
     "output_type": "execute_result"
    }
   ],
   "source": [
    "response.choices[0].message.content"
   ]
  },
  {
   "cell_type": "code",
   "execution_count": 43,
   "id": "1c235bd9",
   "metadata": {},
   "outputs": [],
   "source": [
    "response = openai.ChatCompletion.create(\n",
    "    model=\"gpt-3.5-turbo\",\n",
    "    messages=[\n",
    "        {\n",
    "            \"role\": \"system\",\n",
    "            \"content\": \"Seoul Subway announcement to a passenger in the language set by a user\"\n",
    "        },\n",
    "        {\n",
    "            \"role\": \"assistant\",\n",
    "            \"content\": \"This station is City Hall. Next stop is the National Park. \\\n",
    "            Please prepare to exit the train. Please remember to take all of your belongings with you. Thank you for riding with us today.\"\n",
    "        },\n",
    "        {\n",
    "            \"role\": \"assistant\",\n",
    "            \"content\": \"이번 정거장은 시청역입니다. 다음 정거장은 여의도입니다.\"\n",
    "        },\n",
    "        {\n",
    "            \"role\": \"user\",\n",
    "            \"content\": \"language: Korean\"\n",
    "        },\n",
    "        {\n",
    "            \"role\": \"assistant\",\n",
    "            \"content\": \"Direction: 상행, \\\n",
    "            Current Station: 서울역, \\\n",
    "            Next Station: 여의도, \\\n",
    "            Destination: 여의도\"\n",
    "        },\n",
    "    ],\n",
    "    max_tokens=256,\n",
    "    top_p=1,\n",
    "    frequency_penalty=0,\n",
    "    presence_penalty=0\n",
    ")"
   ]
  },
  {
   "cell_type": "code",
   "execution_count": 44,
   "id": "fb54620d",
   "metadata": {},
   "outputs": [
    {
     "data": {
      "text/plain": [
       "'이번 역은 서울역입니다. 다음 역은 여의도입니다.            하차를 준비해 주세요. 모든 물품을 가져가시는 것을 잊지 마세요. 오늘도 저희와 함께 이용해 주셔서 감사합니다.'"
      ]
     },
     "execution_count": 44,
     "metadata": {},
     "output_type": "execute_result"
    }
   ],
   "source": [
    "response.choices[0].message.content"
   ]
  },
  {
   "cell_type": "code",
   "execution_count": 49,
   "id": "4114e2fb",
   "metadata": {},
   "outputs": [],
   "source": [
    "response = openai.ChatCompletion.create(\n",
    "    model=\"gpt-3.5-turbo\",\n",
    "    messages=[\n",
    "        {\n",
    "            \"role\": \"system\",\n",
    "            \"content\": \"Seoul Subway announcement to a passenger in the language set by a user\"\n",
    "        },\n",
    "        {\n",
    "            \"role\": \"assistant\",\n",
    "            \"content\": \"이번 정거장은 시청역입니다. 다음 정거장은 여의도입니다.\"\n",
    "        },\n",
    "        {\n",
    "            \"role\": \"user\",\n",
    "            \"content\": \"language: Korean\"\n",
    "        },\n",
    "        {\n",
    "            \"role\": \"system\",\n",
    "            \"content\": \"Direction: 상행, \\\n",
    "            Current Station: 서울역, \\\n",
    "            Next Station: 여의도, \\\n",
    "            Destination: 여의도\"\n",
    "        },\n",
    "    ],\n",
    "    max_tokens=256,\n",
    "    top_p=1,\n",
    "    frequency_penalty=0,\n",
    "    presence_penalty=0\n",
    ")"
   ]
  },
  {
   "cell_type": "code",
   "execution_count": 50,
   "id": "a7a625f6",
   "metadata": {},
   "outputs": [
    {
     "data": {
      "text/plain": [
       "'이번 정거장은 시청역입니다. 다음 정거장은 여의도입니다.'"
      ]
     },
     "execution_count": 50,
     "metadata": {},
     "output_type": "execute_result"
    }
   ],
   "source": [
    "response.choices[0].message.content"
   ]
  },
  {
   "cell_type": "code",
   "execution_count": 53,
   "id": "512fc983",
   "metadata": {},
   "outputs": [],
   "source": [
    "response = openai.ChatCompletion.create(\n",
    "    model=\"gpt-3.5-turbo\",\n",
    "    messages=[\n",
    "        {\n",
    "            \"role\": \"system\",\n",
    "            \"content\": \"Seoul Subway announcement to a passenger in the language set by a user\"\n",
    "        },\n",
    "        {\n",
    "            \"role\": \"assistant\",\n",
    "            \"content\": \"이번 정거장은 시청역입니다. 다음 정거장은 여의도입니다. \\\n",
    "            이 열차는 여의도까지 운행합니다. 이용에 참고하여 주시길 바랍니다.\"\n",
    "        },\n",
    "        {\n",
    "            \"role\": \"user\",\n",
    "            \"content\": \"language: Korean\"\n",
    "        },\n",
    "        {\n",
    "            \"role\": \"assistant\",\n",
    "            \"content\": \"Direction: 상행, \\\n",
    "            Current Station: 서울역, \\\n",
    "            Next Station: 여의도, \\\n",
    "            Last Station: 여의도\"\n",
    "        },\n",
    "    ],\n",
    "    max_tokens=256,\n",
    "    top_p=1,\n",
    "    frequency_penalty=0,\n",
    "    presence_penalty=0\n",
    ")"
   ]
  },
  {
   "cell_type": "code",
   "execution_count": 54,
   "id": "5266485c",
   "metadata": {},
   "outputs": [
    {
     "data": {
      "text/plain": [
       "'이번 정거장은 시청역입니다. 다음 정거장은 여의도입니다. 이 열차는 여의도까지 운행합니다. 이용에 참고하여 주시길 바랍니다.'"
      ]
     },
     "execution_count": 54,
     "metadata": {},
     "output_type": "execute_result"
    }
   ],
   "source": [
    "response.choices[0].message.content"
   ]
  },
  {
   "cell_type": "code",
   "execution_count": 55,
   "id": "16719f88",
   "metadata": {},
   "outputs": [],
   "source": [
    "response = openai.ChatCompletion.create(\n",
    "    model=\"gpt-3.5-turbo\",\n",
    "    messages=[\n",
    "        {\n",
    "            \"role\": \"system\",\n",
    "            \"content\": \"Seoul Subway announcement to a passenger in the language set by a user\"\n",
    "        },\n",
    "        {\n",
    "            \"role\": \"assistant\",\n",
    "            \"content\": \"이번 정거장은 시청역입니다. 다음 정거장은 여의도입니다. \\\n",
    "            이 열차는 여의도까지 운행합니다. 이용에 참고하여 주시길 바랍니다.\"\n",
    "        },\n",
    "        {\n",
    "            \"role\": \"user\",\n",
    "            \"content\": \"language: Korean\"\n",
    "        },\n",
    "        {\n",
    "            \"role\": \"assistant\",\n",
    "            \"content\": \"Direction: 상행, \\\n",
    "            Current Station: 서울역, \\\n",
    "            Next Station: 여의도, \\\n",
    "            Last Station: 여의도\"\n",
    "        },\n",
    "        {\n",
    "            \"role\": \"system\",\n",
    "            \"content\": \"Current Station: 합정, \\\n",
    "            Next Station: 신촌, \\\n",
    "            Last Station: 여의도\"\n",
    "        },\n",
    "    ],\n",
    "    max_tokens=256,\n",
    "    top_p=1,\n",
    "    frequency_penalty=0,\n",
    "    presence_penalty=0\n",
    ")"
   ]
  },
  {
   "cell_type": "code",
   "execution_count": 56,
   "id": "1fd9b94a",
   "metadata": {},
   "outputs": [
    {
     "data": {
      "text/plain": [
       "'다음 정거장은 신촌입니다.             이 열차는 여의도까지 운행합니다. 이용에 참고하여 주시길 바랍니다.'"
      ]
     },
     "execution_count": 56,
     "metadata": {},
     "output_type": "execute_result"
    }
   ],
   "source": [
    "response.choices[0].message.content"
   ]
  },
  {
   "cell_type": "code",
   "execution_count": 59,
   "id": "49d56393",
   "metadata": {},
   "outputs": [],
   "source": [
    "response = openai.ChatCompletion.create(\n",
    "    model=\"gpt-3.5-turbo\",\n",
    "    messages=[\n",
    "        {\n",
    "            \"role\": \"system\",\n",
    "            \"content\": \"Seoul Subway announcement to a passenger in the language set by a user\"\n",
    "        },\n",
    "        {\n",
    "            \"role\": \"assistant\",\n",
    "            \"content\": \"Direction: 상행, \\\n",
    "            Current Station: 서울역, \\\n",
    "            Next Station: 여의도, \\\n",
    "            Last Station: 여의도, \\\n",
    "            Message: 이번 정거장은 시청역입니다. 다음 정거장은 여의도입니다. \\\n",
    "            이 열차는 여의도까지 운행합니다. 이용에 참고하여 주시길 바랍니다.\"\n",
    "        },\n",
    "        {\n",
    "            \"role\": \"assistant\",\n",
    "            \"content\": \"Direction: 상행, \\\n",
    "            Current Station: 서울역, \\\n",
    "            Next Station: 여의도, \\\n",
    "            Last Station: 시청, \\\n",
    "            Message: 이번 정거장은 서울역입니다. 다음 정거장은 여의도입니다.\"\n",
    "        },\n",
    "        {\n",
    "            \"role\": \"user\",\n",
    "            \"content\": \"language: Korean\"\n",
    "        },\n",
    "        {\n",
    "            \"role\": \"system\",\n",
    "            \"content\": \"Current Station: 합정, \\\n",
    "            Next Station: 신촌, \\\n",
    "            Last Station: 여의도\"\n",
    "        },\n",
    "    ],\n",
    "    max_tokens=256,\n",
    "    top_p=1,\n",
    "    frequency_penalty=0,\n",
    "    presence_penalty=0\n",
    ")"
   ]
  },
  {
   "cell_type": "code",
   "execution_count": 60,
   "id": "bff91506",
   "metadata": {},
   "outputs": [
    {
     "data": {
      "text/plain": [
       "'방향: 상행,             현재 역: 합정,             다음 역: 신촌,             종착 역: 여의도,             안내 메시지: 이번 정거장은 합정역입니다. 다음 정거장은 신촌입니다. 이 열차는 여의도까지 운행합니다. 이용에 참고하여 주시길 바랍니다.'"
      ]
     },
     "execution_count": 60,
     "metadata": {},
     "output_type": "execute_result"
    }
   ],
   "source": [
    "response.choices[0].message.content"
   ]
  },
  {
   "cell_type": "code",
   "execution_count": 67,
   "id": "05ad8d11",
   "metadata": {},
   "outputs": [],
   "source": [
    "response = openai.ChatCompletion.create(\n",
    "    model=\"gpt-3.5-turbo\",\n",
    "    messages=[\n",
    "        {\n",
    "            \"role\": \"system\",\n",
    "            \"content\": \"Seoul Subway announcement to a passenger in the language set by a user\"\n",
    "        },\n",
    "        {\n",
    "            \"role\": \"assistant\",\n",
    "            \"content\": \"\"\"\n",
    "            Direction: 상행,\n",
    "            Current Station: 서울역,\n",
    "            Next Station: 여의도,\n",
    "            Last Station: 여의도,\n",
    "            isLastStation: True,\n",
    "            announcement: 이번 정거장은 시청역입니다. 다음 정거장은 여의도입니다.\n",
    "            이 열차는 여의도까지 운행합니다. 이용에 참고하여 주시길 바랍니다.\n",
    "            \n",
    "            \"role\": \"assistant\",\n",
    "            \"content\": \"Direction: 상행,\n",
    "            Current Station: 서울역,\n",
    "            Next Station: 여의도,\n",
    "            Last Station: 시청,\n",
    "            isLastStation: False,\n",
    "            announcement: 이번 정거장은 서울역입니다. 다음 정거장은 여의도입니다.\"\n",
    "            \"\"\"\n",
    "        },\n",
    "        {\n",
    "            \"role\": \"user\",\n",
    "            \"content\": \"language: Korean\"\n",
    "        },\n",
    "        {\n",
    "            \"role\": \"system\",\n",
    "            \"content\": \"\"\"\n",
    "            Current Station: 합정,\n",
    "            Next Station: 신촌,\n",
    "            Last Station: 여의도,\n",
    "            isLastStation: False\n",
    "            announcement:\n",
    "            \"\"\"\n",
    "        },\n",
    "    ],\n",
    "    max_tokens=256,\n",
    "    top_p=1,\n",
    "    frequency_penalty=0,\n",
    "    presence_penalty=0\n",
    ")"
   ]
  },
  {
   "cell_type": "code",
   "execution_count": 68,
   "id": "24f6fefb",
   "metadata": {},
   "outputs": [
    {
     "data": {
      "text/plain": [
       "'이번 정거장은 합정역입니다. 다음 정거장은 신촌역입니다. 이 열차는 여의도까지 운행되는 열차입니다. 안내를 꼭 따라주시기 바랍니다.'"
      ]
     },
     "execution_count": 68,
     "metadata": {},
     "output_type": "execute_result"
    }
   ],
   "source": [
    "response.choices[0].message.content"
   ]
  },
  {
   "cell_type": "code",
   "execution_count": 71,
   "id": "17496823",
   "metadata": {},
   "outputs": [],
   "source": [
    "response = openai.ChatCompletion.create(\n",
    "    model=\"gpt-3.5-turbo\",\n",
    "    messages=[\n",
    "        {\n",
    "            \"role\": \"system\",\n",
    "            \"content\": \"Seoul Subway announcement to a passenger in the language set by a user\"\n",
    "        },\n",
    "        {\n",
    "            \"role\": \"assistant\",\n",
    "            \"content\": \"\"\"\n",
    "            Direction: 상행,\n",
    "            Current Station: 서울역,\n",
    "            Next Station: 여의도,\n",
    "            Last Station: 여의도,\n",
    "            isLastStation: True,\n",
    "            announcement: 이번 정거장은 시청역입니다. 다음 정거장은 여의도입니다.\n",
    "            이 열차는 여의도까지 운행합니다. 이용에 참고하여 주시길 바랍니다.\n",
    "            \n",
    "            \"role\": \"assistant\",\n",
    "            \"content\": \"Direction: 상행,\n",
    "            Current Station: 서울역,\n",
    "            Next Station: 여의도,\n",
    "            Last Station: 시청,\n",
    "            isLastStation: False,\n",
    "            announcement: 이번 정거장은 서울역입니다. 다음 정거장은 여의도입니다.\"\n",
    "            \"\"\"\n",
    "        },\n",
    "        {\n",
    "            \"role\": \"user\",\n",
    "            \"content\": \"language: Korean\"\n",
    "        },\n",
    "        {\n",
    "            \"role\": \"system\",\n",
    "            \"content\": \"\"\"\n",
    "            Current Station: 합정,\n",
    "            Next Station: 신촌,\n",
    "            Last Station: 강남구청,\n",
    "            isLastStation: False\n",
    "            announcement:\n",
    "            \"\"\"\n",
    "        },\n",
    "    ],\n",
    "    max_tokens=256,\n",
    "    top_p=0.8,\n",
    "    frequency_penalty=0,\n",
    "    presence_penalty=0\n",
    ")"
   ]
  },
  {
   "cell_type": "code",
   "execution_count": 72,
   "id": "9752b8e2",
   "metadata": {},
   "outputs": [
    {
     "data": {
      "text/plain": [
       "'이번 정거장은 합정입니다. 다음 정거장은 신촌입니다. 현재 운행중인 열차는 강남구청까지 운행합니다. 이용에 참고하여 주시기 바랍니다.'"
      ]
     },
     "execution_count": 72,
     "metadata": {},
     "output_type": "execute_result"
    }
   ],
   "source": [
    "response.choices[0].message.content"
   ]
  },
  {
   "cell_type": "code",
   "execution_count": 73,
   "id": "c164bb5a",
   "metadata": {},
   "outputs": [],
   "source": [
    "language = \"korean\"\n",
    "response = openai.ChatCompletion.create(\n",
    "    model=\"gpt-3.5-turbo\",\n",
    "    messages=[\n",
    "        {\n",
    "            \"role\": \"system\",\n",
    "            \"content\": f\"Seoul Subway announcement to a passenger in {language}\"\n",
    "        },\n",
    "        {\n",
    "            \"role\": \"user\",\n",
    "            \"content\": \"\"\"\n",
    "            Direction: 상행,\n",
    "            Current Station: 서울역,\n",
    "            Next Station: 여의도,\n",
    "            Last Station: 여의도,\n",
    "            isLastStation: True\n",
    "            \"\"\"\n",
    "        },\n",
    "        {\n",
    "            \"role\": \"assistant\",\n",
    "            \"content\": \"이번 정거장은 시청역입니다. 다음 정거장은 여의도입니다. \\\n",
    "            이 열차는 여의도까지 운행합니다. 이용에 참고하여 주시길 바랍니다.\"\n",
    "        },\n",
    "        {\n",
    "            \"role\": \"user\",\n",
    "            \"content\": \"\"\"\n",
    "            Direction: 상행,\n",
    "            Current Station: 서울역,\n",
    "            Next Station: 여의도,\n",
    "            Last Station: 시청,\n",
    "            isLastStation: False\n",
    "            \"\"\"\n",
    "        },\n",
    "        {\n",
    "            \"role\": \"assistant\",\n",
    "            \"content\": \"이번 정거장은 서울역입니다. 다음 정거장은 여의도입니다\"\n",
    "        },\n",
    "        {\n",
    "            \"role\": \"user\",\n",
    "            \"content\": \"\"\"\n",
    "            Current Station: 합정,\n",
    "            Next Station: 신촌,\n",
    "            Last Station: 강남구청,\n",
    "            isLastStation: False\n",
    "            \"\"\"\n",
    "        },\n",
    "    ],\n",
    "    max_tokens=256,\n",
    "    top_p=0.8,\n",
    "    frequency_penalty=0,\n",
    "    presence_penalty=0\n",
    ")"
   ]
  },
  {
   "cell_type": "code",
   "execution_count": 74,
   "id": "4d5f05a4",
   "metadata": {},
   "outputs": [
    {
     "data": {
      "text/plain": [
       "'이번 정거장은 합정입니다. 다음 정거장은 신촌입니다. 이 열차는 강남구청까지 운행합니다. 이용에 참고하여 주시길 바랍니다.'"
      ]
     },
     "execution_count": 74,
     "metadata": {},
     "output_type": "execute_result"
    }
   ],
   "source": [
    "response.choices[0].message.content"
   ]
  },
  {
   "cell_type": "code",
   "execution_count": 19,
   "id": "d35879c3",
   "metadata": {},
   "outputs": [
    {
     "data": {
      "text/plain": [
       "{'NO': '173',\n",
       " 'LINE': '4',\n",
       " 'LINE_NAME': '4호선',\n",
       " 'STATION': '노원',\n",
       " 'STATION_IMAGE': '<img src=\"https://wis.eseoul.go.kr/images/disable/subway/4_173_M.jpg\" alt=\"노원 이미지\" NAME=\"stationImg\" ID=\"stationImg\"/>',\n",
       " 'COURSE1': '당고개',\n",
       " 'COURSE2': '오이도',\n",
       " 'ELEVATER': 'http://wis.seoul.go.kr/rest/file/thumbnail/fb1h26s5y0znrfth8e9tpq9z8c6u3hx2/1',\n",
       " 'ELEVATER_TXT': '승강기 위치는 9번 출구쪽에 있습니다\\r\\r\\r\\n\\r\\r\\r\\n승강기를 이용하여 2층 대합실로 올라가십시오.\\r\\r\\r\\n\\r\\r\\r\\n좌측 방향으로 이동하여 우측 개찰구를 통과하십시오.\\r\\r\\r\\n\\r\\r\\r\\n승강기를 이용하여 승강장으로 올라가십시오.',\n",
       " 'STATION_IMAGE2': '<img src=\"https://wis.eseoul.go.kr/images/disable/subway/20130228180252.jpg\" alt=\"노원 이미지\" NAME=\"stationBigImg\" ID=\"stationBigImg\"/>',\n",
       " 'USEYN': 'Y',\n",
       " 'ICON_PATH': '<img src=\"http://wis.seoul.go.kr/images/disable/subway/20081021143442.jpg\" alt=\"에스켈레이터 이미지\" />,<img src=\"http://wis.seoul.go.kr/images/disable/subway/20081021143830.jpg\" alt=\"엘리베이터 이미지\" />,<img src=\"http://wis.seoul.go.kr/images/disable/subway/20081021143901.jpg\" alt=\"화장실 이미지\" />,<img src=\"http://wis.seoul.go.kr/images/disable/subway/20081021143945.jpg\" alt=\"휠체어리프트 이미지\" />',\n",
       " 'EXIT_INFO': '||1@상계6.7동 주민센터, 상계7동 치안센터, 상계중학교, 상계 119안전센터, 성민복지관||,||2@노원구청, 신상중학교, 상수초등학교, 한국성서대학교, 상계주공아파트 1-6단지, 기업은행 노원역지점, KDB산업은행, 한국전력공사북부지점, 노원 헌혈의 집||,||3@운전면허시험장,용화여고,||,||4@수협,기업은행,상계초등교,국민은행,||,||9@상계동, 창동지하철차량기지, 도봉운전면허시험장, 용화여고, 상월초등학교, 대림.현대아파트, 상계주공아파트||,||10@상계2동주민센터, 상계10동우체국, 상계초등학교, 온곡중학교, 우성아파트, 동양메이저아파트||',\n",
       " 'TELNO_INFO': '긴급전화(역무실) : 02-6110-4111',\n",
       " 'TIME_INFO1': '노원 : 06시04분',\n",
       " 'TIME_INFO2': '노원 : 24시59분',\n",
       " 'TIME_INFO3': '노원 : 05시30분',\n",
       " 'TIME_INFO4': '노원 : 23시12분'}"
      ]
     },
     "execution_count": 19,
     "metadata": {},
     "output_type": "execute_result"
    }
   ],
   "source": [
    "import requests\n",
    "\n",
    "url = f\"http://openapi.seoul.go.kr:8088/6b644e596768616e3131334147767a72/json/subwayTourInfo/1/5/\"\n",
    "\n",
    "response = requests.get(url)\n",
    "data = response.json()\n",
    "        \n",
    "response.json()['subwayTourInfo']['row'][0]"
   ]
  },
  {
   "cell_type": "code",
   "execution_count": 57,
   "id": "602052d9",
   "metadata": {
    "scrolled": false
   },
   "outputs": [
    {
     "name": "stdout",
     "output_type": "stream",
     "text": [
      "-----------info-------------\n",
      "노원\n",
      "accessibility_information: \n",
      "승강기 위치는 9번 출구쪽에 있습니다 승강기를 이용하여 2층 대합실로 올라가십시오. 좌측 방향으로 이동하여 우측 개찰구를 통과하십시오. 승강기를 이용하여 승강장으로 올라가십시오.\n",
      "POI_locator:\n",
      "1(exit) 상계6.7동 주민센터, 상계7동 치안센터, 상계중학교, 상계 119안전센터, 성민복지관 2(exit) 노원구청, 신상중학교, 상수초등학교, 한국성서대학교, 상계주공아파트 1-6단지, 기업은행 노원역지점, KDB산업은행, 한국전력공사북부지점, 노원 헌혈의 집 3(exit) 운전면허시험장,용화여고, 4(exit) 수협,기업은행,상계초등교,국민은행, 9(exit) 상계동, 창동지하철차량기지, 도봉운전면허시험장, 용화여고, 상월초등학교, 대림.현대아파트, 상계주공아파트 10(exit) 상계2동주민센터, 상계10동우체국, 상계초등학교, 온곡중학교, 우성아파트, 동양메이저아파트\n",
      "-----------info-------------\n",
      "청구\n",
      "No information provided\n",
      "POI_locator:\n",
      "1(exit) 신당우체국, 한일은행, 장충초등교, 신흥항공, 국민은행, 문화시장,2(exit) 동화은행, 청구초등교, 신당6동파출소\n",
      "-----------info-------------\n",
      "오금\n",
      "No information provided\n",
      "POI_locator:\n",
      "1(exit) 송파우체국, 오금중학교, 오금동현대아파트,2(exit) 오금공원, 가락현대아파트, 시경제2기동대,3(exit) 성동구치소, 가락2동사무소, 쌍용아파트,4(exit) 송파경찰서, 국립경찰병원,5(exit) 중앙일보사(송파), 하나은행, 농협\n",
      "-----------info-------------\n",
      "종로5가\n",
      "accessibility_information: \n",
      "승강기 위치는 8번출구 뒤쪽에 있습니다. 승강기를 이용하여 지하1층 대합실로 내려가십시오. 우측 방향으로 이동하신 후 승강기를 이용하여 승강장으로 내려가십시오.\n",
      "POI_locator:\n",
      "1(exit) 종로4가방면, 서울혜화경찰서, 종로5가 우체국, 중앙선거관리위원회 선거연수원, 서울특별시 선거관리위원회, 국민건강보험공단 종로지사, 서울신용보증재단 동대문지점 2(exit) 대학로방면 3(exit) 효제동, 서울특별시 중부교육지원청, 효제초등학교, 종로노인종합복지관 4(exit) 동대문방면, 종로6가, 효제동, 종로5,6가동주민센터 5(exit) 동대문방면, 종로6가, 동대문시장 6(exit) 청계천 5가, 평화시장, 동대문시장 7(exit) 청계천 5가, 광장,방산시장, 종로5가 지구대 8(exit) 종로4가 방면, 예지동, 광장시장\n",
      "-----------info-------------\n",
      "청량리\n",
      "accessibility_information: \n",
      "승강기 위치는 6번출구 쪽에 있습니다. 승강기를 이용하여 지하1층 대합실로 내려가십시오. 리프트를 이용하여 승강장으로 올라가십시오.\n",
      "POI_locator:\n",
      "1(exit) 제기동방면, 경동,동서시장 2(exit) 홍릉(영휘원)방면, 서울청량리우체국, 동대문경찰서, 기업은행 청량리지점 3(exit) 동대문세무서, 동대문노인종합복지관, 미주아파트 4(exit) 청량리역광장 5(exit) 역전치안센터 6(exit) 용두1동, 동부청과시장\n"
     ]
    }
   ],
   "source": [
    "data = response.json()['subwayTourInfo']['row']\n",
    "\n",
    "for item in data:\n",
    "    print(\"-----------info-------------\")\n",
    "    print(item['STATION'])\n",
    "    if item['ELEVATER_TXT']:\n",
    "        print(\"accessibility_information: \")\n",
    "        print(item['ELEVATER_TXT'].replace('\\r\\r\\r\\n\\r\\r\\r\\n', ' '))\n",
    "    else:\n",
    "        print(\"No information provided\")\n",
    "    print(\"POI_locator:\")\n",
    "    print(item['EXIT_INFO'].replace(' ||', '').replace('||,', ' ').replace('||', '').replace('@', '(exit) '))"
   ]
  },
  {
   "cell_type": "code",
   "execution_count": 113,
   "id": "93c5a531",
   "metadata": {},
   "outputs": [],
   "source": [
    "accessibility_info = \"승강기 위치는 9번 출구쪽에 있습니다 승강기를 이용하여 2층 대합실로 올라가십시오. 좌측 방향으로 이동하여 우측 개찰구를 통과하십시오. 승강기를 이용하여 승강장으로 올라가십시오.\"\n",
    "poi_locator = \"\"\"\n",
    "    1(exit) 상계6.7동 주민센터, 상계7동 치안센터, 상계중학교, 상계 119안전센터, 성민복지관 2(exit) 노원구청, \n",
    "    신상중학교, 상수초등학교, 한국성서대학교, 상계주공아파트 1-6단지, 기업은행 노원역지점, KDB산업은행, \n",
    "    한국전력공사북부지점, 노원 헌혈의 집 3(exit) 운전면허시험장,용화여고, 4(exit) 수협,기업은행,상계초등교,\n",
    "    국민은행, 9(exit) 상계동, 창동지하철차량기지, 도봉운전면허시험장, 용화여고, 상월초등학교, 대림.현대아파트, \n",
    "    상계주공아파트 10(exit) 상계2동주민센터, 상계10동우체국, 상계초등학교, 온곡중학교, 우성아파트, 동양메이저아파트\n",
    "\"\"\"\n",
    "\n",
    "response = openai.ChatCompletion.create(\n",
    "    model=\"gpt-3.5-turbo-16k\",\n",
    "    messages=[\n",
    "        {\n",
    "            \"role\": \"system\",\n",
    "            \"content\": f\"\"\"\n",
    "                You're a friendly AI providing helpful and easy-to-understand information about the facilities \n",
    "                available at each subway station and the instrunction to the subway users in Seoul \n",
    "                with the given details:\n",
    "                Accessibility information: {accessibility_info}\n",
    "                POI locator: {poi_locator}\n",
    "            \"\"\"\n",
    "        },\n",
    "        {\n",
    "            \"role\": \"system\",\n",
    "            \"content\": f\"\"\"\n",
    "                Include the following:\n",
    "                - A detailed paragraph explaining the accessibility information\n",
    "                - A sentence highlighting the most commonly visited POIs or most recognized places near the station the user might look for\n",
    "                - A detailed paragraph explaining the POI locator information, including all exits and nearby places\n",
    "\n",
    "            \"\"\"\n",
    "        },\n",
    "        {\n",
    "            \"role\": \"system\",\n",
    "            \"content\": \"User's device language is set to Korean.\"\n",
    "        },\n",
    "        {\n",
    "            \"role\": \"system\",\n",
    "            \"content\": \"\"\"\n",
    "                Generate the message in the format of: \n",
    "                {accessibility_information: \"\", POI_locator: {sentence: \"\", paragraph: \"\"}}\n",
    "            \"\"\"\n",
    "        },\n",
    "    ],\n",
    "    top_p=0.8,\n",
    "    max_tokens=1200,\n",
    "    frequency_penalty=0,\n",
    "    presence_penalty=0\n",
    ")"
   ]
  },
  {
   "cell_type": "code",
   "execution_count": 114,
   "id": "87e2413c",
   "metadata": {},
   "outputs": [
    {
     "data": {
      "text/plain": [
       "'{\\n  \"accessibility_information\": \"노원역은 승강기가 있습니다. 승강기 위치는 9번 출구쪽에 있습니다. 9번 출구로 나와서 승강기를 이용하여 2층 대합실로 올라가십시오. 대합실에서 좌측 방향으로 이동하여 우측 개찰구를 통과하십시오. 다시 승강기를 이용하여 승강장으로 올라가십시오.\",\\n  \"POI_locator\": {\\n    \"sentence\": \"노원역 주변에는 상계6.7동 주민센터, 상계7동 치안센터, 상계중학교, 상계 119안전센터, 성민복지관 등이 있습니다.\",\\n    \"paragraph\": \"노원역은 다양한 주요 시설과 가까운 위치에 있습니다. 1번 출구 쪽에는 상계6.7동 주민센터, 상계7동 치안센터, 상계중학교, 상계 119안전센터, 성민복지관이 있습니다. 2번 출구 쪽에는 노원구청, 신상중학교, 상수초등학교, 한국성서대학교, 상계주공아파트 1-6단지, 기업은행 노원역지점, KDB산업은행, 한국전력공사북부지점, 노원 헌혈의 집이 있습니다. 3번 출구 쪽에는 운전면허시험장, 용화여고가 있습니다. 4번 출구 쪽에는 수협, 기업은행, 상계초등교, 국민은행이 있습니다. 9번 출구 쪽에는 상계동, 창동지하철차량기지, 도봉운전면허시험장, 용화여고, 상월초등학교, 대림.현대아파트, 상계주공아파트가 있습니다. 10번 출구 쪽에는 상계2동주민센터, 상계10동우체국, 상계초등학교, 온곡중학교, 우성아파트, 동양메이저아파트가 있습니다.\"\\n  }\\n}'"
      ]
     },
     "execution_count": 114,
     "metadata": {},
     "output_type": "execute_result"
    }
   ],
   "source": [
    "response.choices[0].message.content"
   ]
  },
  {
   "cell_type": "code",
   "execution_count": null,
   "id": "ccc91306",
   "metadata": {},
   "outputs": [],
   "source": []
  }
 ],
 "metadata": {
  "kernelspec": {
   "display_name": "Python 3 (ipykernel)",
   "language": "python",
   "name": "python3"
  },
  "language_info": {
   "codemirror_mode": {
    "name": "ipython",
    "version": 3
   },
   "file_extension": ".py",
   "mimetype": "text/x-python",
   "name": "python",
   "nbconvert_exporter": "python",
   "pygments_lexer": "ipython3",
   "version": "3.10.5"
  }
 },
 "nbformat": 4,
 "nbformat_minor": 5
}
